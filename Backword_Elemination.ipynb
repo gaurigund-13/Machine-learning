{
 "cells": [
  {
   "cell_type": "code",
   "execution_count": 1,
   "id": "d26fcc58",
   "metadata": {},
   "outputs": [],
   "source": [
    "from warnings import filterwarnings\n",
    "filterwarnings('ignore')"
   ]
  },
  {
   "cell_type": "markdown",
   "id": "88c198bb",
   "metadata": {},
   "source": [
    "### Read the datasets"
   ]
  },
  {
   "cell_type": "code",
   "execution_count": 2,
   "id": "0ef3e17a",
   "metadata": {},
   "outputs": [],
   "source": [
    "import os\n",
    "os.chdir(\"D:/ETLHIVE/Datasets\")"
   ]
  },
  {
   "cell_type": "code",
   "execution_count": 3,
   "id": "67ef2bb1",
   "metadata": {},
   "outputs": [],
   "source": [
    "import pandas as pd\n",
    "df = pd.read_csv(\"Cars93.csv\")"
   ]
  },
  {
   "cell_type": "code",
   "execution_count": 4,
   "id": "a80a5450",
   "metadata": {},
   "outputs": [
    {
     "data": {
      "text/html": [
       "<div>\n",
       "<style scoped>\n",
       "    .dataframe tbody tr th:only-of-type {\n",
       "        vertical-align: middle;\n",
       "    }\n",
       "\n",
       "    .dataframe tbody tr th {\n",
       "        vertical-align: top;\n",
       "    }\n",
       "\n",
       "    .dataframe thead th {\n",
       "        text-align: right;\n",
       "    }\n",
       "</style>\n",
       "<table border=\"1\" class=\"dataframe\">\n",
       "  <thead>\n",
       "    <tr style=\"text-align: right;\">\n",
       "      <th></th>\n",
       "      <th>id</th>\n",
       "      <th>Manufacturer</th>\n",
       "      <th>Model</th>\n",
       "      <th>Type</th>\n",
       "      <th>Min.Price</th>\n",
       "      <th>Price</th>\n",
       "      <th>Max.Price</th>\n",
       "      <th>MPG.city</th>\n",
       "      <th>MPG.highway</th>\n",
       "      <th>AirBags</th>\n",
       "      <th>...</th>\n",
       "      <th>Passengers</th>\n",
       "      <th>Length</th>\n",
       "      <th>Wheelbase</th>\n",
       "      <th>Width</th>\n",
       "      <th>Turn.circle</th>\n",
       "      <th>Rear.seat.room</th>\n",
       "      <th>Luggage.room</th>\n",
       "      <th>Weight</th>\n",
       "      <th>Origin</th>\n",
       "      <th>Make</th>\n",
       "    </tr>\n",
       "  </thead>\n",
       "  <tbody>\n",
       "    <tr>\n",
       "      <th>0</th>\n",
       "      <td>1</td>\n",
       "      <td>Acura</td>\n",
       "      <td>Integra</td>\n",
       "      <td>Small</td>\n",
       "      <td>12.9</td>\n",
       "      <td>15.9</td>\n",
       "      <td>18.8</td>\n",
       "      <td>25</td>\n",
       "      <td>31</td>\n",
       "      <td>NaN</td>\n",
       "      <td>...</td>\n",
       "      <td>5</td>\n",
       "      <td>177</td>\n",
       "      <td>102</td>\n",
       "      <td>68</td>\n",
       "      <td>37</td>\n",
       "      <td>26.5</td>\n",
       "      <td>11.0</td>\n",
       "      <td>2705</td>\n",
       "      <td>non-USA</td>\n",
       "      <td>Acura Integra</td>\n",
       "    </tr>\n",
       "    <tr>\n",
       "      <th>1</th>\n",
       "      <td>2</td>\n",
       "      <td>Acura</td>\n",
       "      <td>Legend</td>\n",
       "      <td>Midsize</td>\n",
       "      <td>29.2</td>\n",
       "      <td>33.9</td>\n",
       "      <td>38.7</td>\n",
       "      <td>18</td>\n",
       "      <td>25</td>\n",
       "      <td>Driver &amp; Passenger</td>\n",
       "      <td>...</td>\n",
       "      <td>5</td>\n",
       "      <td>195</td>\n",
       "      <td>115</td>\n",
       "      <td>71</td>\n",
       "      <td>38</td>\n",
       "      <td>30.0</td>\n",
       "      <td>15.0</td>\n",
       "      <td>3560</td>\n",
       "      <td>non-USA</td>\n",
       "      <td>Acura Legend</td>\n",
       "    </tr>\n",
       "    <tr>\n",
       "      <th>2</th>\n",
       "      <td>3</td>\n",
       "      <td>Audi</td>\n",
       "      <td>90</td>\n",
       "      <td>Compact</td>\n",
       "      <td>25.9</td>\n",
       "      <td>29.1</td>\n",
       "      <td>32.3</td>\n",
       "      <td>20</td>\n",
       "      <td>26</td>\n",
       "      <td>Driver only</td>\n",
       "      <td>...</td>\n",
       "      <td>5</td>\n",
       "      <td>180</td>\n",
       "      <td>102</td>\n",
       "      <td>67</td>\n",
       "      <td>37</td>\n",
       "      <td>28.0</td>\n",
       "      <td>14.0</td>\n",
       "      <td>3375</td>\n",
       "      <td>non-USA</td>\n",
       "      <td>Audi 90</td>\n",
       "    </tr>\n",
       "    <tr>\n",
       "      <th>3</th>\n",
       "      <td>4</td>\n",
       "      <td>Audi</td>\n",
       "      <td>100</td>\n",
       "      <td>Midsize</td>\n",
       "      <td>30.8</td>\n",
       "      <td>37.7</td>\n",
       "      <td>44.6</td>\n",
       "      <td>19</td>\n",
       "      <td>26</td>\n",
       "      <td>NaN</td>\n",
       "      <td>...</td>\n",
       "      <td>6</td>\n",
       "      <td>193</td>\n",
       "      <td>106</td>\n",
       "      <td>70</td>\n",
       "      <td>37</td>\n",
       "      <td>31.0</td>\n",
       "      <td>17.0</td>\n",
       "      <td>3405</td>\n",
       "      <td>non-USA</td>\n",
       "      <td>Audi 100</td>\n",
       "    </tr>\n",
       "    <tr>\n",
       "      <th>4</th>\n",
       "      <td>5</td>\n",
       "      <td>BMW</td>\n",
       "      <td>535i</td>\n",
       "      <td>Midsize</td>\n",
       "      <td>23.7</td>\n",
       "      <td>30.0</td>\n",
       "      <td>36.2</td>\n",
       "      <td>22</td>\n",
       "      <td>30</td>\n",
       "      <td>Driver only</td>\n",
       "      <td>...</td>\n",
       "      <td>4</td>\n",
       "      <td>186</td>\n",
       "      <td>109</td>\n",
       "      <td>69</td>\n",
       "      <td>39</td>\n",
       "      <td>27.0</td>\n",
       "      <td>13.0</td>\n",
       "      <td>3640</td>\n",
       "      <td>non-USA</td>\n",
       "      <td>BMW 535i</td>\n",
       "    </tr>\n",
       "  </tbody>\n",
       "</table>\n",
       "<p>5 rows × 28 columns</p>\n",
       "</div>"
      ],
      "text/plain": [
       "   id Manufacturer    Model     Type  Min.Price  Price  Max.Price  MPG.city  \\\n",
       "0   1        Acura  Integra    Small       12.9   15.9       18.8        25   \n",
       "1   2        Acura   Legend  Midsize       29.2   33.9       38.7        18   \n",
       "2   3         Audi       90  Compact       25.9   29.1       32.3        20   \n",
       "3   4         Audi      100  Midsize       30.8   37.7       44.6        19   \n",
       "4   5          BMW     535i  Midsize       23.7   30.0       36.2        22   \n",
       "\n",
       "   MPG.highway             AirBags  ... Passengers Length  Wheelbase  Width  \\\n",
       "0           31                 NaN  ...          5    177        102     68   \n",
       "1           25  Driver & Passenger  ...          5    195        115     71   \n",
       "2           26         Driver only  ...          5    180        102     67   \n",
       "3           26                 NaN  ...          6    193        106     70   \n",
       "4           30         Driver only  ...          4    186        109     69   \n",
       "\n",
       "   Turn.circle  Rear.seat.room Luggage.room  Weight   Origin           Make  \n",
       "0           37            26.5         11.0    2705  non-USA  Acura Integra  \n",
       "1           38            30.0         15.0    3560  non-USA   Acura Legend  \n",
       "2           37            28.0         14.0    3375  non-USA        Audi 90  \n",
       "3           37            31.0         17.0    3405  non-USA       Audi 100  \n",
       "4           39            27.0         13.0    3640  non-USA       BMW 535i  \n",
       "\n",
       "[5 rows x 28 columns]"
      ]
     },
     "execution_count": 4,
     "metadata": {},
     "output_type": "execute_result"
    }
   ],
   "source": [
    "df.head()"
   ]
  },
  {
   "cell_type": "code",
   "execution_count": 5,
   "id": "323187f6",
   "metadata": {},
   "outputs": [
    {
     "data": {
      "text/plain": [
       "(93, 28)"
      ]
     },
     "execution_count": 5,
     "metadata": {},
     "output_type": "execute_result"
    }
   ],
   "source": [
    "df.shape"
   ]
  },
  {
   "cell_type": "code",
   "execution_count": 6,
   "id": "080f9c90",
   "metadata": {},
   "outputs": [
    {
     "name": "stdout",
     "output_type": "stream",
     "text": [
      "<class 'pandas.core.frame.DataFrame'>\n",
      "RangeIndex: 93 entries, 0 to 92\n",
      "Data columns (total 28 columns):\n",
      " #   Column              Non-Null Count  Dtype  \n",
      "---  ------              --------------  -----  \n",
      " 0   id                  93 non-null     int64  \n",
      " 1   Manufacturer        93 non-null     object \n",
      " 2   Model               93 non-null     object \n",
      " 3   Type                93 non-null     object \n",
      " 4   Min.Price           93 non-null     float64\n",
      " 5   Price               93 non-null     float64\n",
      " 6   Max.Price           93 non-null     float64\n",
      " 7   MPG.city            93 non-null     int64  \n",
      " 8   MPG.highway         93 non-null     int64  \n",
      " 9   AirBags             56 non-null     object \n",
      " 10  DriveTrain          93 non-null     object \n",
      " 11  Cylinders           93 non-null     object \n",
      " 12  EngineSize          93 non-null     float64\n",
      " 13  Horsepower          93 non-null     int64  \n",
      " 14  RPM                 93 non-null     int64  \n",
      " 15  Rev.per.mile        93 non-null     int64  \n",
      " 16  Man.trans.avail     93 non-null     object \n",
      " 17  Fuel.tank.capacity  93 non-null     float64\n",
      " 18  Passengers          93 non-null     int64  \n",
      " 19  Length              93 non-null     int64  \n",
      " 20  Wheelbase           93 non-null     int64  \n",
      " 21  Width               93 non-null     int64  \n",
      " 22  Turn.circle         93 non-null     int64  \n",
      " 23  Rear.seat.room      91 non-null     float64\n",
      " 24  Luggage.room        82 non-null     float64\n",
      " 25  Weight              93 non-null     int64  \n",
      " 26  Origin              93 non-null     object \n",
      " 27  Make                93 non-null     object \n",
      "dtypes: float64(7), int64(12), object(9)\n",
      "memory usage: 20.5+ KB\n"
     ]
    }
   ],
   "source": [
    "df.info()"
   ]
  },
  {
   "cell_type": "code",
   "execution_count": 7,
   "id": "416a197e",
   "metadata": {},
   "outputs": [
    {
     "data": {
      "text/html": [
       "<div>\n",
       "<style scoped>\n",
       "    .dataframe tbody tr th:only-of-type {\n",
       "        vertical-align: middle;\n",
       "    }\n",
       "\n",
       "    .dataframe tbody tr th {\n",
       "        vertical-align: top;\n",
       "    }\n",
       "\n",
       "    .dataframe thead th {\n",
       "        text-align: right;\n",
       "    }\n",
       "</style>\n",
       "<table border=\"1\" class=\"dataframe\">\n",
       "  <thead>\n",
       "    <tr style=\"text-align: right;\">\n",
       "      <th></th>\n",
       "      <th>count</th>\n",
       "      <th>mean</th>\n",
       "      <th>std</th>\n",
       "      <th>min</th>\n",
       "      <th>25%</th>\n",
       "      <th>50%</th>\n",
       "      <th>75%</th>\n",
       "      <th>max</th>\n",
       "    </tr>\n",
       "  </thead>\n",
       "  <tbody>\n",
       "    <tr>\n",
       "      <th>id</th>\n",
       "      <td>93.0</td>\n",
       "      <td>47.000000</td>\n",
       "      <td>26.990739</td>\n",
       "      <td>1.0</td>\n",
       "      <td>24.0</td>\n",
       "      <td>47.0</td>\n",
       "      <td>70.0</td>\n",
       "      <td>93.0</td>\n",
       "    </tr>\n",
       "    <tr>\n",
       "      <th>Min.Price</th>\n",
       "      <td>93.0</td>\n",
       "      <td>17.125806</td>\n",
       "      <td>8.746029</td>\n",
       "      <td>6.7</td>\n",
       "      <td>10.8</td>\n",
       "      <td>14.7</td>\n",
       "      <td>20.3</td>\n",
       "      <td>45.4</td>\n",
       "    </tr>\n",
       "    <tr>\n",
       "      <th>Price</th>\n",
       "      <td>93.0</td>\n",
       "      <td>19.509677</td>\n",
       "      <td>9.659430</td>\n",
       "      <td>7.4</td>\n",
       "      <td>12.2</td>\n",
       "      <td>17.7</td>\n",
       "      <td>23.3</td>\n",
       "      <td>61.9</td>\n",
       "    </tr>\n",
       "    <tr>\n",
       "      <th>Max.Price</th>\n",
       "      <td>93.0</td>\n",
       "      <td>21.898925</td>\n",
       "      <td>11.030457</td>\n",
       "      <td>7.9</td>\n",
       "      <td>14.7</td>\n",
       "      <td>19.6</td>\n",
       "      <td>25.3</td>\n",
       "      <td>80.0</td>\n",
       "    </tr>\n",
       "    <tr>\n",
       "      <th>MPG.city</th>\n",
       "      <td>93.0</td>\n",
       "      <td>22.365591</td>\n",
       "      <td>5.619812</td>\n",
       "      <td>15.0</td>\n",
       "      <td>18.0</td>\n",
       "      <td>21.0</td>\n",
       "      <td>25.0</td>\n",
       "      <td>46.0</td>\n",
       "    </tr>\n",
       "    <tr>\n",
       "      <th>MPG.highway</th>\n",
       "      <td>93.0</td>\n",
       "      <td>29.086022</td>\n",
       "      <td>5.331726</td>\n",
       "      <td>20.0</td>\n",
       "      <td>26.0</td>\n",
       "      <td>28.0</td>\n",
       "      <td>31.0</td>\n",
       "      <td>50.0</td>\n",
       "    </tr>\n",
       "    <tr>\n",
       "      <th>EngineSize</th>\n",
       "      <td>93.0</td>\n",
       "      <td>2.667742</td>\n",
       "      <td>1.037363</td>\n",
       "      <td>1.0</td>\n",
       "      <td>1.8</td>\n",
       "      <td>2.4</td>\n",
       "      <td>3.3</td>\n",
       "      <td>5.7</td>\n",
       "    </tr>\n",
       "    <tr>\n",
       "      <th>Horsepower</th>\n",
       "      <td>93.0</td>\n",
       "      <td>143.827957</td>\n",
       "      <td>52.374410</td>\n",
       "      <td>55.0</td>\n",
       "      <td>103.0</td>\n",
       "      <td>140.0</td>\n",
       "      <td>170.0</td>\n",
       "      <td>300.0</td>\n",
       "    </tr>\n",
       "    <tr>\n",
       "      <th>RPM</th>\n",
       "      <td>93.0</td>\n",
       "      <td>5280.645161</td>\n",
       "      <td>596.731690</td>\n",
       "      <td>3800.0</td>\n",
       "      <td>4800.0</td>\n",
       "      <td>5200.0</td>\n",
       "      <td>5750.0</td>\n",
       "      <td>6500.0</td>\n",
       "    </tr>\n",
       "    <tr>\n",
       "      <th>Rev.per.mile</th>\n",
       "      <td>93.0</td>\n",
       "      <td>2332.204301</td>\n",
       "      <td>496.506525</td>\n",
       "      <td>1320.0</td>\n",
       "      <td>1985.0</td>\n",
       "      <td>2340.0</td>\n",
       "      <td>2565.0</td>\n",
       "      <td>3755.0</td>\n",
       "    </tr>\n",
       "    <tr>\n",
       "      <th>Fuel.tank.capacity</th>\n",
       "      <td>93.0</td>\n",
       "      <td>16.664516</td>\n",
       "      <td>3.279370</td>\n",
       "      <td>9.2</td>\n",
       "      <td>14.5</td>\n",
       "      <td>16.4</td>\n",
       "      <td>18.8</td>\n",
       "      <td>27.0</td>\n",
       "    </tr>\n",
       "    <tr>\n",
       "      <th>Passengers</th>\n",
       "      <td>93.0</td>\n",
       "      <td>5.086022</td>\n",
       "      <td>1.038979</td>\n",
       "      <td>2.0</td>\n",
       "      <td>4.0</td>\n",
       "      <td>5.0</td>\n",
       "      <td>6.0</td>\n",
       "      <td>8.0</td>\n",
       "    </tr>\n",
       "    <tr>\n",
       "      <th>Length</th>\n",
       "      <td>93.0</td>\n",
       "      <td>183.204301</td>\n",
       "      <td>14.602382</td>\n",
       "      <td>141.0</td>\n",
       "      <td>174.0</td>\n",
       "      <td>183.0</td>\n",
       "      <td>192.0</td>\n",
       "      <td>219.0</td>\n",
       "    </tr>\n",
       "    <tr>\n",
       "      <th>Wheelbase</th>\n",
       "      <td>93.0</td>\n",
       "      <td>103.946237</td>\n",
       "      <td>6.819674</td>\n",
       "      <td>90.0</td>\n",
       "      <td>98.0</td>\n",
       "      <td>103.0</td>\n",
       "      <td>110.0</td>\n",
       "      <td>119.0</td>\n",
       "    </tr>\n",
       "    <tr>\n",
       "      <th>Width</th>\n",
       "      <td>93.0</td>\n",
       "      <td>69.376344</td>\n",
       "      <td>3.778986</td>\n",
       "      <td>60.0</td>\n",
       "      <td>67.0</td>\n",
       "      <td>69.0</td>\n",
       "      <td>72.0</td>\n",
       "      <td>78.0</td>\n",
       "    </tr>\n",
       "    <tr>\n",
       "      <th>Turn.circle</th>\n",
       "      <td>93.0</td>\n",
       "      <td>38.956989</td>\n",
       "      <td>3.223265</td>\n",
       "      <td>32.0</td>\n",
       "      <td>37.0</td>\n",
       "      <td>39.0</td>\n",
       "      <td>41.0</td>\n",
       "      <td>45.0</td>\n",
       "    </tr>\n",
       "    <tr>\n",
       "      <th>Rear.seat.room</th>\n",
       "      <td>91.0</td>\n",
       "      <td>27.829670</td>\n",
       "      <td>2.989072</td>\n",
       "      <td>19.0</td>\n",
       "      <td>26.0</td>\n",
       "      <td>27.5</td>\n",
       "      <td>30.0</td>\n",
       "      <td>36.0</td>\n",
       "    </tr>\n",
       "    <tr>\n",
       "      <th>Luggage.room</th>\n",
       "      <td>82.0</td>\n",
       "      <td>13.890244</td>\n",
       "      <td>2.997967</td>\n",
       "      <td>6.0</td>\n",
       "      <td>12.0</td>\n",
       "      <td>14.0</td>\n",
       "      <td>15.0</td>\n",
       "      <td>22.0</td>\n",
       "    </tr>\n",
       "    <tr>\n",
       "      <th>Weight</th>\n",
       "      <td>93.0</td>\n",
       "      <td>3072.903226</td>\n",
       "      <td>589.896510</td>\n",
       "      <td>1695.0</td>\n",
       "      <td>2620.0</td>\n",
       "      <td>3040.0</td>\n",
       "      <td>3525.0</td>\n",
       "      <td>4105.0</td>\n",
       "    </tr>\n",
       "  </tbody>\n",
       "</table>\n",
       "</div>"
      ],
      "text/plain": [
       "                    count         mean         std     min     25%     50%  \\\n",
       "id                   93.0    47.000000   26.990739     1.0    24.0    47.0   \n",
       "Min.Price            93.0    17.125806    8.746029     6.7    10.8    14.7   \n",
       "Price                93.0    19.509677    9.659430     7.4    12.2    17.7   \n",
       "Max.Price            93.0    21.898925   11.030457     7.9    14.7    19.6   \n",
       "MPG.city             93.0    22.365591    5.619812    15.0    18.0    21.0   \n",
       "MPG.highway          93.0    29.086022    5.331726    20.0    26.0    28.0   \n",
       "EngineSize           93.0     2.667742    1.037363     1.0     1.8     2.4   \n",
       "Horsepower           93.0   143.827957   52.374410    55.0   103.0   140.0   \n",
       "RPM                  93.0  5280.645161  596.731690  3800.0  4800.0  5200.0   \n",
       "Rev.per.mile         93.0  2332.204301  496.506525  1320.0  1985.0  2340.0   \n",
       "Fuel.tank.capacity   93.0    16.664516    3.279370     9.2    14.5    16.4   \n",
       "Passengers           93.0     5.086022    1.038979     2.0     4.0     5.0   \n",
       "Length               93.0   183.204301   14.602382   141.0   174.0   183.0   \n",
       "Wheelbase            93.0   103.946237    6.819674    90.0    98.0   103.0   \n",
       "Width                93.0    69.376344    3.778986    60.0    67.0    69.0   \n",
       "Turn.circle          93.0    38.956989    3.223265    32.0    37.0    39.0   \n",
       "Rear.seat.room       91.0    27.829670    2.989072    19.0    26.0    27.5   \n",
       "Luggage.room         82.0    13.890244    2.997967     6.0    12.0    14.0   \n",
       "Weight               93.0  3072.903226  589.896510  1695.0  2620.0  3040.0   \n",
       "\n",
       "                       75%     max  \n",
       "id                    70.0    93.0  \n",
       "Min.Price             20.3    45.4  \n",
       "Price                 23.3    61.9  \n",
       "Max.Price             25.3    80.0  \n",
       "MPG.city              25.0    46.0  \n",
       "MPG.highway           31.0    50.0  \n",
       "EngineSize             3.3     5.7  \n",
       "Horsepower           170.0   300.0  \n",
       "RPM                 5750.0  6500.0  \n",
       "Rev.per.mile        2565.0  3755.0  \n",
       "Fuel.tank.capacity    18.8    27.0  \n",
       "Passengers             6.0     8.0  \n",
       "Length               192.0   219.0  \n",
       "Wheelbase            110.0   119.0  \n",
       "Width                 72.0    78.0  \n",
       "Turn.circle           41.0    45.0  \n",
       "Rear.seat.room        30.0    36.0  \n",
       "Luggage.room          15.0    22.0  \n",
       "Weight              3525.0  4105.0  "
      ]
     },
     "execution_count": 7,
     "metadata": {},
     "output_type": "execute_result"
    }
   ],
   "source": [
    "df.describe().T"
   ]
  },
  {
   "cell_type": "code",
   "execution_count": 8,
   "id": "aab33676",
   "metadata": {},
   "outputs": [
    {
     "data": {
      "text/plain": [
       "id                     0\n",
       "Manufacturer           0\n",
       "Model                  0\n",
       "Type                   0\n",
       "Min.Price              0\n",
       "Price                  0\n",
       "Max.Price              0\n",
       "MPG.city               0\n",
       "MPG.highway            0\n",
       "AirBags               37\n",
       "DriveTrain             0\n",
       "Cylinders              0\n",
       "EngineSize             0\n",
       "Horsepower             0\n",
       "RPM                    0\n",
       "Rev.per.mile           0\n",
       "Man.trans.avail        0\n",
       "Fuel.tank.capacity     0\n",
       "Passengers             0\n",
       "Length                 0\n",
       "Wheelbase              0\n",
       "Width                  0\n",
       "Turn.circle            0\n",
       "Rear.seat.room         2\n",
       "Luggage.room          11\n",
       "Weight                 0\n",
       "Origin                 0\n",
       "Make                   0\n",
       "dtype: int64"
      ]
     },
     "execution_count": 8,
     "metadata": {},
     "output_type": "execute_result"
    }
   ],
   "source": [
    "## Checking missing values\n",
    "s = df.isna().sum()\n",
    "s"
   ]
  },
  {
   "cell_type": "code",
   "execution_count": 9,
   "id": "8e5eb876",
   "metadata": {},
   "outputs": [
    {
     "data": {
      "text/plain": [
       "AirBags           37\n",
       "Rear.seat.room     2\n",
       "Luggage.room      11\n",
       "dtype: int64"
      ]
     },
     "execution_count": 9,
     "metadata": {},
     "output_type": "execute_result"
    }
   ],
   "source": [
    "s[s>0]"
   ]
  },
  {
   "cell_type": "markdown",
   "id": "3c2f5dc8",
   "metadata": {},
   "source": [
    "### Seperate x and y "
   ]
  },
  {
   "cell_type": "code",
   "execution_count": 10,
   "id": "45bb19b0",
   "metadata": {},
   "outputs": [],
   "source": [
    "x = df.drop(columns=['id','Weight'])\n",
    "y = df[['Weight']]"
   ]
  },
  {
   "cell_type": "code",
   "execution_count": 11,
   "id": "db0e278b",
   "metadata": {},
   "outputs": [
    {
     "data": {
      "text/html": [
       "<div>\n",
       "<style scoped>\n",
       "    .dataframe tbody tr th:only-of-type {\n",
       "        vertical-align: middle;\n",
       "    }\n",
       "\n",
       "    .dataframe tbody tr th {\n",
       "        vertical-align: top;\n",
       "    }\n",
       "\n",
       "    .dataframe thead th {\n",
       "        text-align: right;\n",
       "    }\n",
       "</style>\n",
       "<table border=\"1\" class=\"dataframe\">\n",
       "  <thead>\n",
       "    <tr style=\"text-align: right;\">\n",
       "      <th></th>\n",
       "      <th>Manufacturer</th>\n",
       "      <th>Model</th>\n",
       "      <th>Type</th>\n",
       "      <th>Min.Price</th>\n",
       "      <th>Price</th>\n",
       "      <th>Max.Price</th>\n",
       "      <th>MPG.city</th>\n",
       "      <th>MPG.highway</th>\n",
       "      <th>AirBags</th>\n",
       "      <th>DriveTrain</th>\n",
       "      <th>...</th>\n",
       "      <th>Fuel.tank.capacity</th>\n",
       "      <th>Passengers</th>\n",
       "      <th>Length</th>\n",
       "      <th>Wheelbase</th>\n",
       "      <th>Width</th>\n",
       "      <th>Turn.circle</th>\n",
       "      <th>Rear.seat.room</th>\n",
       "      <th>Luggage.room</th>\n",
       "      <th>Origin</th>\n",
       "      <th>Make</th>\n",
       "    </tr>\n",
       "  </thead>\n",
       "  <tbody>\n",
       "    <tr>\n",
       "      <th>0</th>\n",
       "      <td>Acura</td>\n",
       "      <td>Integra</td>\n",
       "      <td>Small</td>\n",
       "      <td>12.9</td>\n",
       "      <td>15.9</td>\n",
       "      <td>18.8</td>\n",
       "      <td>25</td>\n",
       "      <td>31</td>\n",
       "      <td>NaN</td>\n",
       "      <td>Front</td>\n",
       "      <td>...</td>\n",
       "      <td>13.2</td>\n",
       "      <td>5</td>\n",
       "      <td>177</td>\n",
       "      <td>102</td>\n",
       "      <td>68</td>\n",
       "      <td>37</td>\n",
       "      <td>26.5</td>\n",
       "      <td>11.0</td>\n",
       "      <td>non-USA</td>\n",
       "      <td>Acura Integra</td>\n",
       "    </tr>\n",
       "    <tr>\n",
       "      <th>1</th>\n",
       "      <td>Acura</td>\n",
       "      <td>Legend</td>\n",
       "      <td>Midsize</td>\n",
       "      <td>29.2</td>\n",
       "      <td>33.9</td>\n",
       "      <td>38.7</td>\n",
       "      <td>18</td>\n",
       "      <td>25</td>\n",
       "      <td>Driver &amp; Passenger</td>\n",
       "      <td>Front</td>\n",
       "      <td>...</td>\n",
       "      <td>18.0</td>\n",
       "      <td>5</td>\n",
       "      <td>195</td>\n",
       "      <td>115</td>\n",
       "      <td>71</td>\n",
       "      <td>38</td>\n",
       "      <td>30.0</td>\n",
       "      <td>15.0</td>\n",
       "      <td>non-USA</td>\n",
       "      <td>Acura Legend</td>\n",
       "    </tr>\n",
       "    <tr>\n",
       "      <th>2</th>\n",
       "      <td>Audi</td>\n",
       "      <td>90</td>\n",
       "      <td>Compact</td>\n",
       "      <td>25.9</td>\n",
       "      <td>29.1</td>\n",
       "      <td>32.3</td>\n",
       "      <td>20</td>\n",
       "      <td>26</td>\n",
       "      <td>Driver only</td>\n",
       "      <td>Front</td>\n",
       "      <td>...</td>\n",
       "      <td>16.9</td>\n",
       "      <td>5</td>\n",
       "      <td>180</td>\n",
       "      <td>102</td>\n",
       "      <td>67</td>\n",
       "      <td>37</td>\n",
       "      <td>28.0</td>\n",
       "      <td>14.0</td>\n",
       "      <td>non-USA</td>\n",
       "      <td>Audi 90</td>\n",
       "    </tr>\n",
       "    <tr>\n",
       "      <th>3</th>\n",
       "      <td>Audi</td>\n",
       "      <td>100</td>\n",
       "      <td>Midsize</td>\n",
       "      <td>30.8</td>\n",
       "      <td>37.7</td>\n",
       "      <td>44.6</td>\n",
       "      <td>19</td>\n",
       "      <td>26</td>\n",
       "      <td>NaN</td>\n",
       "      <td>Front</td>\n",
       "      <td>...</td>\n",
       "      <td>21.1</td>\n",
       "      <td>6</td>\n",
       "      <td>193</td>\n",
       "      <td>106</td>\n",
       "      <td>70</td>\n",
       "      <td>37</td>\n",
       "      <td>31.0</td>\n",
       "      <td>17.0</td>\n",
       "      <td>non-USA</td>\n",
       "      <td>Audi 100</td>\n",
       "    </tr>\n",
       "    <tr>\n",
       "      <th>4</th>\n",
       "      <td>BMW</td>\n",
       "      <td>535i</td>\n",
       "      <td>Midsize</td>\n",
       "      <td>23.7</td>\n",
       "      <td>30.0</td>\n",
       "      <td>36.2</td>\n",
       "      <td>22</td>\n",
       "      <td>30</td>\n",
       "      <td>Driver only</td>\n",
       "      <td>Rear</td>\n",
       "      <td>...</td>\n",
       "      <td>21.1</td>\n",
       "      <td>4</td>\n",
       "      <td>186</td>\n",
       "      <td>109</td>\n",
       "      <td>69</td>\n",
       "      <td>39</td>\n",
       "      <td>27.0</td>\n",
       "      <td>13.0</td>\n",
       "      <td>non-USA</td>\n",
       "      <td>BMW 535i</td>\n",
       "    </tr>\n",
       "  </tbody>\n",
       "</table>\n",
       "<p>5 rows × 26 columns</p>\n",
       "</div>"
      ],
      "text/plain": [
       "  Manufacturer    Model     Type  Min.Price  Price  Max.Price  MPG.city  \\\n",
       "0        Acura  Integra    Small       12.9   15.9       18.8        25   \n",
       "1        Acura   Legend  Midsize       29.2   33.9       38.7        18   \n",
       "2         Audi       90  Compact       25.9   29.1       32.3        20   \n",
       "3         Audi      100  Midsize       30.8   37.7       44.6        19   \n",
       "4          BMW     535i  Midsize       23.7   30.0       36.2        22   \n",
       "\n",
       "   MPG.highway             AirBags DriveTrain  ... Fuel.tank.capacity  \\\n",
       "0           31                 NaN      Front  ...               13.2   \n",
       "1           25  Driver & Passenger      Front  ...               18.0   \n",
       "2           26         Driver only      Front  ...               16.9   \n",
       "3           26                 NaN      Front  ...               21.1   \n",
       "4           30         Driver only       Rear  ...               21.1   \n",
       "\n",
       "   Passengers  Length  Wheelbase  Width Turn.circle  Rear.seat.room  \\\n",
       "0           5     177        102     68          37            26.5   \n",
       "1           5     195        115     71          38            30.0   \n",
       "2           5     180        102     67          37            28.0   \n",
       "3           6     193        106     70          37            31.0   \n",
       "4           4     186        109     69          39            27.0   \n",
       "\n",
       "   Luggage.room   Origin           Make  \n",
       "0          11.0  non-USA  Acura Integra  \n",
       "1          15.0  non-USA   Acura Legend  \n",
       "2          14.0  non-USA        Audi 90  \n",
       "3          17.0  non-USA       Audi 100  \n",
       "4          13.0  non-USA       BMW 535i  \n",
       "\n",
       "[5 rows x 26 columns]"
      ]
     },
     "execution_count": 11,
     "metadata": {},
     "output_type": "execute_result"
    }
   ],
   "source": [
    "x.head()"
   ]
  },
  {
   "cell_type": "code",
   "execution_count": 12,
   "id": "7b1411e0",
   "metadata": {},
   "outputs": [
    {
     "data": {
      "text/html": [
       "<div>\n",
       "<style scoped>\n",
       "    .dataframe tbody tr th:only-of-type {\n",
       "        vertical-align: middle;\n",
       "    }\n",
       "\n",
       "    .dataframe tbody tr th {\n",
       "        vertical-align: top;\n",
       "    }\n",
       "\n",
       "    .dataframe thead th {\n",
       "        text-align: right;\n",
       "    }\n",
       "</style>\n",
       "<table border=\"1\" class=\"dataframe\">\n",
       "  <thead>\n",
       "    <tr style=\"text-align: right;\">\n",
       "      <th></th>\n",
       "      <th>Weight</th>\n",
       "    </tr>\n",
       "  </thead>\n",
       "  <tbody>\n",
       "    <tr>\n",
       "      <th>0</th>\n",
       "      <td>2705</td>\n",
       "    </tr>\n",
       "    <tr>\n",
       "      <th>1</th>\n",
       "      <td>3560</td>\n",
       "    </tr>\n",
       "    <tr>\n",
       "      <th>2</th>\n",
       "      <td>3375</td>\n",
       "    </tr>\n",
       "    <tr>\n",
       "      <th>3</th>\n",
       "      <td>3405</td>\n",
       "    </tr>\n",
       "    <tr>\n",
       "      <th>4</th>\n",
       "      <td>3640</td>\n",
       "    </tr>\n",
       "  </tbody>\n",
       "</table>\n",
       "</div>"
      ],
      "text/plain": [
       "   Weight\n",
       "0    2705\n",
       "1    3560\n",
       "2    3375\n",
       "3    3405\n",
       "4    3640"
      ]
     },
     "execution_count": 12,
     "metadata": {},
     "output_type": "execute_result"
    }
   ],
   "source": [
    "y.head()"
   ]
  },
  {
   "cell_type": "markdown",
   "id": "8f5947c5",
   "metadata": {},
   "source": [
    "### Seperate cat and con variables in x"
   ]
  },
  {
   "cell_type": "code",
   "execution_count": 13,
   "id": "cd4cab15",
   "metadata": {},
   "outputs": [],
   "source": [
    "cat = list(x.columns[x.dtypes == 'object'])\n",
    "con = list(x.columns[x.dtypes != 'object'])"
   ]
  },
  {
   "cell_type": "code",
   "execution_count": 14,
   "id": "f2641704",
   "metadata": {},
   "outputs": [
    {
     "data": {
      "text/plain": [
       "['Manufacturer',\n",
       " 'Model',\n",
       " 'Type',\n",
       " 'AirBags',\n",
       " 'DriveTrain',\n",
       " 'Cylinders',\n",
       " 'Man.trans.avail',\n",
       " 'Origin',\n",
       " 'Make']"
      ]
     },
     "execution_count": 14,
     "metadata": {},
     "output_type": "execute_result"
    }
   ],
   "source": [
    "cat"
   ]
  },
  {
   "cell_type": "code",
   "execution_count": 15,
   "id": "cd7afa6c",
   "metadata": {},
   "outputs": [
    {
     "data": {
      "text/plain": [
       "['Min.Price',\n",
       " 'Price',\n",
       " 'Max.Price',\n",
       " 'MPG.city',\n",
       " 'MPG.highway',\n",
       " 'EngineSize',\n",
       " 'Horsepower',\n",
       " 'RPM',\n",
       " 'Rev.per.mile',\n",
       " 'Fuel.tank.capacity',\n",
       " 'Passengers',\n",
       " 'Length',\n",
       " 'Wheelbase',\n",
       " 'Width',\n",
       " 'Turn.circle',\n",
       " 'Rear.seat.room',\n",
       " 'Luggage.room']"
      ]
     },
     "execution_count": 15,
     "metadata": {},
     "output_type": "execute_result"
    }
   ],
   "source": [
    "con"
   ]
  },
  {
   "cell_type": "markdown",
   "id": "5ac5b019",
   "metadata": {},
   "source": [
    "### Create a feature selection pipeline"
   ]
  },
  {
   "cell_type": "code",
   "execution_count": 16,
   "id": "d1746e4b",
   "metadata": {},
   "outputs": [],
   "source": [
    "from sklearn.pipeline import Pipeline\n",
    "from sklearn.impute import SimpleImputer\n",
    "from sklearn.preprocessing import OrdinalEncoder, StandardScaler\n",
    "from sklearn.compose import ColumnTransformer"
   ]
  },
  {
   "cell_type": "code",
   "execution_count": 17,
   "id": "13f0ed53",
   "metadata": {},
   "outputs": [],
   "source": [
    "# num pipeline\n",
    "num_pipe = Pipeline(steps=[('imputer', SimpleImputer(strategy='mean')),\n",
    "                          ('scaler', StandardScaler())])\n",
    "\n",
    "# cat pipeline\n",
    "cat_pipe = Pipeline(steps=[('impute', SimpleImputer(strategy='most_frequent')),\n",
    "                           ('ordinal', OrdinalEncoder())])\n",
    "\n",
    "# Combine both of them in one pipeline\n",
    "pre1 = ColumnTransformer([('num', num_pipe, con),\n",
    "                         ('cat', cat_pipe, cat)])"
   ]
  },
  {
   "cell_type": "code",
   "execution_count": 18,
   "id": "488d9954",
   "metadata": {},
   "outputs": [
    {
     "data": {
      "text/plain": [
       "array([[-0.48578741, -0.37572014, -0.28246529, ...,  1.        ,\n",
       "         1.        ,  0.        ],\n",
       "       [ 1.38801699,  1.49784409,  1.53140881, ...,  1.        ,\n",
       "         1.        ,  1.        ],\n",
       "       [ 1.00865782,  0.99822696,  0.94805231, ...,  1.        ,\n",
       "         1.        ,  3.        ],\n",
       "       ...,\n",
       "       [ 0.66378585,  0.39452293,  0.16416702, ...,  1.        ,\n",
       "         1.        , 87.        ],\n",
       "       [ 0.53733279,  0.33207079,  0.14593713, ...,  1.        ,\n",
       "         1.        , 91.        ],\n",
       "       [ 0.88220476,  0.7484184 ,  0.60168439, ...,  1.        ,\n",
       "         1.        , 92.        ]])"
      ]
     },
     "execution_count": 18,
     "metadata": {},
     "output_type": "execute_result"
    }
   ],
   "source": [
    "x_pre = pre1.fit_transform(x)\n",
    "x_pre"
   ]
  },
  {
   "cell_type": "code",
   "execution_count": 19,
   "id": "bbafff2d",
   "metadata": {},
   "outputs": [
    {
     "data": {
      "text/plain": [
       "array(['num__Min.Price', 'num__Price', 'num__Max.Price', 'num__MPG.city',\n",
       "       'num__MPG.highway', 'num__EngineSize', 'num__Horsepower',\n",
       "       'num__RPM', 'num__Rev.per.mile', 'num__Fuel.tank.capacity',\n",
       "       'num__Passengers', 'num__Length', 'num__Wheelbase', 'num__Width',\n",
       "       'num__Turn.circle', 'num__Rear.seat.room', 'num__Luggage.room',\n",
       "       'cat__Manufacturer', 'cat__Model', 'cat__Type', 'cat__AirBags',\n",
       "       'cat__DriveTrain', 'cat__Cylinders', 'cat__Man.trans.avail',\n",
       "       'cat__Origin', 'cat__Make'], dtype=object)"
      ]
     },
     "execution_count": 19,
     "metadata": {},
     "output_type": "execute_result"
    }
   ],
   "source": [
    "cols = pre1.get_feature_names_out()\n",
    "cols"
   ]
  },
  {
   "cell_type": "code",
   "execution_count": 20,
   "id": "afcfae11",
   "metadata": {},
   "outputs": [
    {
     "data": {
      "text/plain": [
       "26"
      ]
     },
     "execution_count": 20,
     "metadata": {},
     "output_type": "execute_result"
    }
   ],
   "source": [
    "len(cols)"
   ]
  },
  {
   "cell_type": "code",
   "execution_count": 21,
   "id": "8e33bbe5",
   "metadata": {},
   "outputs": [
    {
     "data": {
      "text/html": [
       "<div>\n",
       "<style scoped>\n",
       "    .dataframe tbody tr th:only-of-type {\n",
       "        vertical-align: middle;\n",
       "    }\n",
       "\n",
       "    .dataframe tbody tr th {\n",
       "        vertical-align: top;\n",
       "    }\n",
       "\n",
       "    .dataframe thead th {\n",
       "        text-align: right;\n",
       "    }\n",
       "</style>\n",
       "<table border=\"1\" class=\"dataframe\">\n",
       "  <thead>\n",
       "    <tr style=\"text-align: right;\">\n",
       "      <th></th>\n",
       "      <th>num__Min.Price</th>\n",
       "      <th>num__Price</th>\n",
       "      <th>num__Max.Price</th>\n",
       "      <th>num__MPG.city</th>\n",
       "      <th>num__MPG.highway</th>\n",
       "      <th>num__EngineSize</th>\n",
       "      <th>num__Horsepower</th>\n",
       "      <th>num__RPM</th>\n",
       "      <th>num__Rev.per.mile</th>\n",
       "      <th>num__Fuel.tank.capacity</th>\n",
       "      <th>...</th>\n",
       "      <th>num__Luggage.room</th>\n",
       "      <th>cat__Manufacturer</th>\n",
       "      <th>cat__Model</th>\n",
       "      <th>cat__Type</th>\n",
       "      <th>cat__AirBags</th>\n",
       "      <th>cat__DriveTrain</th>\n",
       "      <th>cat__Cylinders</th>\n",
       "      <th>cat__Man.trans.avail</th>\n",
       "      <th>cat__Origin</th>\n",
       "      <th>cat__Make</th>\n",
       "    </tr>\n",
       "  </thead>\n",
       "  <tbody>\n",
       "    <tr>\n",
       "      <th>0</th>\n",
       "      <td>-0.485787</td>\n",
       "      <td>-0.375720</td>\n",
       "      <td>-0.282465</td>\n",
       "      <td>0.471312</td>\n",
       "      <td>0.360925</td>\n",
       "      <td>-0.841022</td>\n",
       "      <td>-0.073484</td>\n",
       "      <td>1.717489</td>\n",
       "      <td>1.129530</td>\n",
       "      <td>-1.062184</td>\n",
       "      <td>...</td>\n",
       "      <td>-1.033015</td>\n",
       "      <td>0.0</td>\n",
       "      <td>48.0</td>\n",
       "      <td>3.0</td>\n",
       "      <td>1.0</td>\n",
       "      <td>1.0</td>\n",
       "      <td>1.0</td>\n",
       "      <td>1.0</td>\n",
       "      <td>1.0</td>\n",
       "      <td>0.0</td>\n",
       "    </tr>\n",
       "    <tr>\n",
       "      <th>1</th>\n",
       "      <td>1.388017</td>\n",
       "      <td>1.497844</td>\n",
       "      <td>1.531409</td>\n",
       "      <td>-0.781032</td>\n",
       "      <td>-0.770514</td>\n",
       "      <td>0.515869</td>\n",
       "      <td>1.078322</td>\n",
       "      <td>0.369586</td>\n",
       "      <td>0.005661</td>\n",
       "      <td>0.409445</td>\n",
       "      <td>...</td>\n",
       "      <td>0.396643</td>\n",
       "      <td>0.0</td>\n",
       "      <td>55.0</td>\n",
       "      <td>2.0</td>\n",
       "      <td>0.0</td>\n",
       "      <td>1.0</td>\n",
       "      <td>3.0</td>\n",
       "      <td>1.0</td>\n",
       "      <td>1.0</td>\n",
       "      <td>1.0</td>\n",
       "    </tr>\n",
       "    <tr>\n",
       "      <th>2</th>\n",
       "      <td>1.008658</td>\n",
       "      <td>0.998227</td>\n",
       "      <td>0.948052</td>\n",
       "      <td>-0.423219</td>\n",
       "      <td>-0.581941</td>\n",
       "      <td>0.128186</td>\n",
       "      <td>0.540813</td>\n",
       "      <td>0.369586</td>\n",
       "      <td>-0.105713</td>\n",
       "      <td>0.072197</td>\n",
       "      <td>...</td>\n",
       "      <td>0.039228</td>\n",
       "      <td>1.0</td>\n",
       "      <td>8.0</td>\n",
       "      <td>0.0</td>\n",
       "      <td>1.0</td>\n",
       "      <td>1.0</td>\n",
       "      <td>3.0</td>\n",
       "      <td>1.0</td>\n",
       "      <td>1.0</td>\n",
       "      <td>3.0</td>\n",
       "    </tr>\n",
       "    <tr>\n",
       "      <th>3</th>\n",
       "      <td>1.571949</td>\n",
       "      <td>1.893374</td>\n",
       "      <td>2.069191</td>\n",
       "      <td>-0.602126</td>\n",
       "      <td>-0.581941</td>\n",
       "      <td>0.128186</td>\n",
       "      <td>0.540813</td>\n",
       "      <td>0.369586</td>\n",
       "      <td>0.410659</td>\n",
       "      <td>1.359872</td>\n",
       "      <td>...</td>\n",
       "      <td>1.111472</td>\n",
       "      <td>1.0</td>\n",
       "      <td>0.0</td>\n",
       "      <td>2.0</td>\n",
       "      <td>1.0</td>\n",
       "      <td>1.0</td>\n",
       "      <td>3.0</td>\n",
       "      <td>1.0</td>\n",
       "      <td>1.0</td>\n",
       "      <td>2.0</td>\n",
       "    </tr>\n",
       "    <tr>\n",
       "      <th>4</th>\n",
       "      <td>0.755752</td>\n",
       "      <td>1.091905</td>\n",
       "      <td>1.303535</td>\n",
       "      <td>-0.065407</td>\n",
       "      <td>0.172352</td>\n",
       "      <td>0.806631</td>\n",
       "      <td>1.231897</td>\n",
       "      <td>0.706562</td>\n",
       "      <td>0.430909</td>\n",
       "      <td>1.359872</td>\n",
       "      <td>...</td>\n",
       "      <td>-0.318186</td>\n",
       "      <td>2.0</td>\n",
       "      <td>5.0</td>\n",
       "      <td>2.0</td>\n",
       "      <td>1.0</td>\n",
       "      <td>2.0</td>\n",
       "      <td>1.0</td>\n",
       "      <td>1.0</td>\n",
       "      <td>1.0</td>\n",
       "      <td>4.0</td>\n",
       "    </tr>\n",
       "  </tbody>\n",
       "</table>\n",
       "<p>5 rows × 26 columns</p>\n",
       "</div>"
      ],
      "text/plain": [
       "   num__Min.Price  num__Price  num__Max.Price  num__MPG.city  \\\n",
       "0       -0.485787   -0.375720       -0.282465       0.471312   \n",
       "1        1.388017    1.497844        1.531409      -0.781032   \n",
       "2        1.008658    0.998227        0.948052      -0.423219   \n",
       "3        1.571949    1.893374        2.069191      -0.602126   \n",
       "4        0.755752    1.091905        1.303535      -0.065407   \n",
       "\n",
       "   num__MPG.highway  num__EngineSize  num__Horsepower  num__RPM  \\\n",
       "0          0.360925        -0.841022        -0.073484  1.717489   \n",
       "1         -0.770514         0.515869         1.078322  0.369586   \n",
       "2         -0.581941         0.128186         0.540813  0.369586   \n",
       "3         -0.581941         0.128186         0.540813  0.369586   \n",
       "4          0.172352         0.806631         1.231897  0.706562   \n",
       "\n",
       "   num__Rev.per.mile  num__Fuel.tank.capacity  ...  num__Luggage.room  \\\n",
       "0           1.129530                -1.062184  ...          -1.033015   \n",
       "1           0.005661                 0.409445  ...           0.396643   \n",
       "2          -0.105713                 0.072197  ...           0.039228   \n",
       "3           0.410659                 1.359872  ...           1.111472   \n",
       "4           0.430909                 1.359872  ...          -0.318186   \n",
       "\n",
       "   cat__Manufacturer  cat__Model  cat__Type  cat__AirBags  cat__DriveTrain  \\\n",
       "0                0.0        48.0        3.0           1.0              1.0   \n",
       "1                0.0        55.0        2.0           0.0              1.0   \n",
       "2                1.0         8.0        0.0           1.0              1.0   \n",
       "3                1.0         0.0        2.0           1.0              1.0   \n",
       "4                2.0         5.0        2.0           1.0              2.0   \n",
       "\n",
       "   cat__Cylinders  cat__Man.trans.avail  cat__Origin  cat__Make  \n",
       "0             1.0                   1.0          1.0        0.0  \n",
       "1             3.0                   1.0          1.0        1.0  \n",
       "2             3.0                   1.0          1.0        3.0  \n",
       "3             3.0                   1.0          1.0        2.0  \n",
       "4             1.0                   1.0          1.0        4.0  \n",
       "\n",
       "[5 rows x 26 columns]"
      ]
     },
     "execution_count": 21,
     "metadata": {},
     "output_type": "execute_result"
    }
   ],
   "source": [
    "x_pre = pd.DataFrame(x_pre, columns=cols)\n",
    "x_pre.head()"
   ]
  },
  {
   "cell_type": "markdown",
   "id": "25c91123",
   "metadata": {},
   "source": [
    "### Feature selection"
   ]
  },
  {
   "cell_type": "code",
   "execution_count": 22,
   "id": "5e9bbb20",
   "metadata": {},
   "outputs": [],
   "source": [
    "from sklearn.linear_model import LinearRegression\n",
    "from sklearn.feature_selection import SequentialFeatureSelector"
   ]
  },
  {
   "cell_type": "code",
   "execution_count": 23,
   "id": "3c67e34f",
   "metadata": {},
   "outputs": [
    {
     "data": {
      "text/plain": [
       "array(['num__Price', 'num__MPG.highway', 'num__Horsepower', 'num__RPM',\n",
       "       'num__Fuel.tank.capacity', 'num__Passengers', 'num__Length',\n",
       "       'num__Wheelbase', 'num__Luggage.room', 'cat__Manufacturer',\n",
       "       'cat__Type', 'cat__Cylinders', 'cat__Origin'], dtype=object)"
      ]
     },
     "execution_count": 23,
     "metadata": {},
     "output_type": "execute_result"
    }
   ],
   "source": [
    "lr = LinearRegression()\n",
    "sel = SequentialFeatureSelector(lr, direction='backward')\n",
    "sel_feature = sel.fit_transform(x_pre, y)\n",
    "sel_cols = sel.get_feature_names_out()\n",
    "sel_cols"
   ]
  },
  {
   "cell_type": "code",
   "execution_count": 24,
   "id": "aff08b0e",
   "metadata": {},
   "outputs": [
    {
     "data": {
      "text/plain": [
       "13"
      ]
     },
     "execution_count": 24,
     "metadata": {},
     "output_type": "execute_result"
    }
   ],
   "source": [
    "len(sel_cols)"
   ]
  },
  {
   "cell_type": "markdown",
   "id": "8b0dce72",
   "metadata": {},
   "source": [
    "### Extracting imp column names"
   ]
  },
  {
   "cell_type": "code",
   "execution_count": 25,
   "id": "70d7e91d",
   "metadata": {},
   "outputs": [
    {
     "data": {
      "text/plain": [
       "['num', 'Price']"
      ]
     },
     "execution_count": 25,
     "metadata": {},
     "output_type": "execute_result"
    }
   ],
   "source": [
    "sel_cols[0].split('__')"
   ]
  },
  {
   "cell_type": "code",
   "execution_count": 26,
   "id": "8149035b",
   "metadata": {},
   "outputs": [
    {
     "data": {
      "text/plain": [
       "'Price'"
      ]
     },
     "execution_count": 26,
     "metadata": {},
     "output_type": "execute_result"
    }
   ],
   "source": [
    "sel_cols[0].split('__')[1]"
   ]
  },
  {
   "cell_type": "code",
   "execution_count": 27,
   "id": "24155436",
   "metadata": {},
   "outputs": [],
   "source": [
    "imp_cols = []\n",
    "for i in sel_cols:\n",
    "    s = i.split('__')[1]\n",
    "    imp_cols.append(s)"
   ]
  },
  {
   "cell_type": "code",
   "execution_count": 28,
   "id": "c04b18c8",
   "metadata": {},
   "outputs": [
    {
     "data": {
      "text/plain": [
       "['Price',\n",
       " 'MPG.highway',\n",
       " 'Horsepower',\n",
       " 'RPM',\n",
       " 'Fuel.tank.capacity',\n",
       " 'Passengers',\n",
       " 'Length',\n",
       " 'Wheelbase',\n",
       " 'Luggage.room',\n",
       " 'Manufacturer',\n",
       " 'Type',\n",
       " 'Cylinders',\n",
       " 'Origin']"
      ]
     },
     "execution_count": 28,
     "metadata": {},
     "output_type": "execute_result"
    }
   ],
   "source": [
    "imp_cols"
   ]
  },
  {
   "cell_type": "code",
   "execution_count": 29,
   "id": "111f1de4",
   "metadata": {},
   "outputs": [],
   "source": [
    "x_sel = x[imp_cols]"
   ]
  },
  {
   "cell_type": "code",
   "execution_count": 30,
   "id": "91353b9f",
   "metadata": {},
   "outputs": [
    {
     "data": {
      "text/html": [
       "<div>\n",
       "<style scoped>\n",
       "    .dataframe tbody tr th:only-of-type {\n",
       "        vertical-align: middle;\n",
       "    }\n",
       "\n",
       "    .dataframe tbody tr th {\n",
       "        vertical-align: top;\n",
       "    }\n",
       "\n",
       "    .dataframe thead th {\n",
       "        text-align: right;\n",
       "    }\n",
       "</style>\n",
       "<table border=\"1\" class=\"dataframe\">\n",
       "  <thead>\n",
       "    <tr style=\"text-align: right;\">\n",
       "      <th></th>\n",
       "      <th>Price</th>\n",
       "      <th>MPG.highway</th>\n",
       "      <th>Horsepower</th>\n",
       "      <th>RPM</th>\n",
       "      <th>Fuel.tank.capacity</th>\n",
       "      <th>Passengers</th>\n",
       "      <th>Length</th>\n",
       "      <th>Wheelbase</th>\n",
       "      <th>Luggage.room</th>\n",
       "      <th>Manufacturer</th>\n",
       "      <th>Type</th>\n",
       "      <th>Cylinders</th>\n",
       "      <th>Origin</th>\n",
       "    </tr>\n",
       "  </thead>\n",
       "  <tbody>\n",
       "    <tr>\n",
       "      <th>0</th>\n",
       "      <td>15.9</td>\n",
       "      <td>31</td>\n",
       "      <td>140</td>\n",
       "      <td>6300</td>\n",
       "      <td>13.2</td>\n",
       "      <td>5</td>\n",
       "      <td>177</td>\n",
       "      <td>102</td>\n",
       "      <td>11.0</td>\n",
       "      <td>Acura</td>\n",
       "      <td>Small</td>\n",
       "      <td>4</td>\n",
       "      <td>non-USA</td>\n",
       "    </tr>\n",
       "    <tr>\n",
       "      <th>1</th>\n",
       "      <td>33.9</td>\n",
       "      <td>25</td>\n",
       "      <td>200</td>\n",
       "      <td>5500</td>\n",
       "      <td>18.0</td>\n",
       "      <td>5</td>\n",
       "      <td>195</td>\n",
       "      <td>115</td>\n",
       "      <td>15.0</td>\n",
       "      <td>Acura</td>\n",
       "      <td>Midsize</td>\n",
       "      <td>6</td>\n",
       "      <td>non-USA</td>\n",
       "    </tr>\n",
       "    <tr>\n",
       "      <th>2</th>\n",
       "      <td>29.1</td>\n",
       "      <td>26</td>\n",
       "      <td>172</td>\n",
       "      <td>5500</td>\n",
       "      <td>16.9</td>\n",
       "      <td>5</td>\n",
       "      <td>180</td>\n",
       "      <td>102</td>\n",
       "      <td>14.0</td>\n",
       "      <td>Audi</td>\n",
       "      <td>Compact</td>\n",
       "      <td>6</td>\n",
       "      <td>non-USA</td>\n",
       "    </tr>\n",
       "    <tr>\n",
       "      <th>3</th>\n",
       "      <td>37.7</td>\n",
       "      <td>26</td>\n",
       "      <td>172</td>\n",
       "      <td>5500</td>\n",
       "      <td>21.1</td>\n",
       "      <td>6</td>\n",
       "      <td>193</td>\n",
       "      <td>106</td>\n",
       "      <td>17.0</td>\n",
       "      <td>Audi</td>\n",
       "      <td>Midsize</td>\n",
       "      <td>6</td>\n",
       "      <td>non-USA</td>\n",
       "    </tr>\n",
       "    <tr>\n",
       "      <th>4</th>\n",
       "      <td>30.0</td>\n",
       "      <td>30</td>\n",
       "      <td>208</td>\n",
       "      <td>5700</td>\n",
       "      <td>21.1</td>\n",
       "      <td>4</td>\n",
       "      <td>186</td>\n",
       "      <td>109</td>\n",
       "      <td>13.0</td>\n",
       "      <td>BMW</td>\n",
       "      <td>Midsize</td>\n",
       "      <td>4</td>\n",
       "      <td>non-USA</td>\n",
       "    </tr>\n",
       "  </tbody>\n",
       "</table>\n",
       "</div>"
      ],
      "text/plain": [
       "   Price  MPG.highway  Horsepower   RPM  Fuel.tank.capacity  Passengers  \\\n",
       "0   15.9           31         140  6300                13.2           5   \n",
       "1   33.9           25         200  5500                18.0           5   \n",
       "2   29.1           26         172  5500                16.9           5   \n",
       "3   37.7           26         172  5500                21.1           6   \n",
       "4   30.0           30         208  5700                21.1           4   \n",
       "\n",
       "   Length  Wheelbase  Luggage.room Manufacturer     Type Cylinders   Origin  \n",
       "0     177        102          11.0        Acura    Small         4  non-USA  \n",
       "1     195        115          15.0        Acura  Midsize         6  non-USA  \n",
       "2     180        102          14.0         Audi  Compact         6  non-USA  \n",
       "3     193        106          17.0         Audi  Midsize         6  non-USA  \n",
       "4     186        109          13.0          BMW  Midsize         4  non-USA  "
      ]
     },
     "execution_count": 30,
     "metadata": {},
     "output_type": "execute_result"
    }
   ],
   "source": [
    "x_sel.head()"
   ]
  },
  {
   "cell_type": "markdown",
   "id": "73505351",
   "metadata": {},
   "source": [
    "### Seperate Cat sel and con sel"
   ]
  },
  {
   "cell_type": "code",
   "execution_count": 31,
   "id": "683a19a4",
   "metadata": {},
   "outputs": [],
   "source": [
    "cat_sel = list(x_sel.columns[x_sel.dtypes=='object'])\n",
    "con_sel = list(x_sel.columns[x_sel.dtypes!='object'])"
   ]
  },
  {
   "cell_type": "code",
   "execution_count": 32,
   "id": "d742cf91",
   "metadata": {},
   "outputs": [
    {
     "data": {
      "text/plain": [
       "['Manufacturer', 'Type', 'Cylinders', 'Origin']"
      ]
     },
     "execution_count": 32,
     "metadata": {},
     "output_type": "execute_result"
    }
   ],
   "source": [
    "cat_sel"
   ]
  },
  {
   "cell_type": "code",
   "execution_count": 33,
   "id": "34a7ff3d",
   "metadata": {},
   "outputs": [
    {
     "data": {
      "text/plain": [
       "['Price',\n",
       " 'MPG.highway',\n",
       " 'Horsepower',\n",
       " 'RPM',\n",
       " 'Fuel.tank.capacity',\n",
       " 'Passengers',\n",
       " 'Length',\n",
       " 'Wheelbase',\n",
       " 'Luggage.room']"
      ]
     },
     "execution_count": 33,
     "metadata": {},
     "output_type": "execute_result"
    }
   ],
   "source": [
    "con_sel"
   ]
  },
  {
   "cell_type": "markdown",
   "id": "08d26717",
   "metadata": {},
   "source": [
    "### Create a finalpipeline contaning OneHot Encoder"
   ]
  },
  {
   "cell_type": "code",
   "execution_count": 34,
   "id": "59af55e2",
   "metadata": {},
   "outputs": [],
   "source": [
    "from sklearn.preprocessing import OneHotEncoder"
   ]
  },
  {
   "cell_type": "code",
   "execution_count": 35,
   "id": "1051105d",
   "metadata": {},
   "outputs": [],
   "source": [
    "num_pipe2 = Pipeline(steps=[('impute', SimpleImputer(strategy='mean')),\n",
    "                           ('scaler', StandardScaler())])\n",
    "\n",
    "cat_pipe2 = Pipeline(steps=[('impute', SimpleImputer(strategy='most_frequent')),\n",
    "                           ('ohe', OneHotEncoder(handle_unknown='ignore'))])\n",
    "\n",
    "pre2 = ColumnTransformer([('num', num_pipe2, con_sel),\n",
    "                         ('cat', cat_pipe2, cat_sel)])"
   ]
  },
  {
   "cell_type": "code",
   "execution_count": 36,
   "id": "20aee536",
   "metadata": {},
   "outputs": [
    {
     "data": {
      "text/plain": [
       "array([[-0.37572014,  0.36092485, -0.07348445, ...,  0.        ,\n",
       "         0.        ,  1.        ],\n",
       "       [ 1.49784409, -0.77051373,  1.07832243, ...,  0.        ,\n",
       "         0.        ,  1.        ],\n",
       "       [ 0.99822696, -0.58194063,  0.54081255, ...,  0.        ,\n",
       "         0.        ,  1.        ],\n",
       "       ...,\n",
       "       [ 0.39452293, -0.77051373,  0.65599324, ...,  0.        ,\n",
       "         0.        ,  1.        ],\n",
       "       [ 0.33207079, -0.20479444, -0.57260077, ...,  0.        ,\n",
       "         0.        ,  1.        ],\n",
       "       [ 0.7484184 , -0.20479444,  0.46402543, ...,  0.        ,\n",
       "         0.        ,  1.        ]])"
      ]
     },
     "execution_count": 36,
     "metadata": {},
     "output_type": "execute_result"
    }
   ],
   "source": [
    "x_sel_pre = pre2.fit_transform(x_sel).toarray()\n",
    "x_sel_pre"
   ]
  },
  {
   "cell_type": "code",
   "execution_count": 37,
   "id": "a216f2df",
   "metadata": {},
   "outputs": [
    {
     "data": {
      "text/plain": [
       "array(['num__Price', 'num__MPG.highway', 'num__Horsepower', 'num__RPM',\n",
       "       'num__Fuel.tank.capacity', 'num__Passengers', 'num__Length',\n",
       "       'num__Wheelbase', 'num__Luggage.room', 'cat__Manufacturer_Acura',\n",
       "       'cat__Manufacturer_Audi', 'cat__Manufacturer_BMW',\n",
       "       'cat__Manufacturer_Buick', 'cat__Manufacturer_Cadillac',\n",
       "       'cat__Manufacturer_Chevrolet', 'cat__Manufacturer_Chrylser',\n",
       "       'cat__Manufacturer_Chrysler', 'cat__Manufacturer_Dodge',\n",
       "       'cat__Manufacturer_Eagle', 'cat__Manufacturer_Ford',\n",
       "       'cat__Manufacturer_Geo', 'cat__Manufacturer_Honda',\n",
       "       'cat__Manufacturer_Hyundai', 'cat__Manufacturer_Infiniti',\n",
       "       'cat__Manufacturer_Lexus', 'cat__Manufacturer_Lincoln',\n",
       "       'cat__Manufacturer_Mazda', 'cat__Manufacturer_Mercedes-Benz',\n",
       "       'cat__Manufacturer_Mercury', 'cat__Manufacturer_Mitsubishi',\n",
       "       'cat__Manufacturer_Nissan', 'cat__Manufacturer_Oldsmobile',\n",
       "       'cat__Manufacturer_Plymouth', 'cat__Manufacturer_Pontiac',\n",
       "       'cat__Manufacturer_Saab', 'cat__Manufacturer_Saturn',\n",
       "       'cat__Manufacturer_Subaru', 'cat__Manufacturer_Suzuki',\n",
       "       'cat__Manufacturer_Toyota', 'cat__Manufacturer_Volkswagen',\n",
       "       'cat__Manufacturer_Volvo', 'cat__Type_Compact', 'cat__Type_Large',\n",
       "       'cat__Type_Midsize', 'cat__Type_Small', 'cat__Type_Sporty',\n",
       "       'cat__Type_Van', 'cat__Cylinders_3', 'cat__Cylinders_4',\n",
       "       'cat__Cylinders_5', 'cat__Cylinders_6', 'cat__Cylinders_8',\n",
       "       'cat__Cylinders_rotary', 'cat__Origin_USA', 'cat__Origin_non-USA'],\n",
       "      dtype=object)"
      ]
     },
     "execution_count": 37,
     "metadata": {},
     "output_type": "execute_result"
    }
   ],
   "source": [
    "final_cols = pre2.get_feature_names_out()\n",
    "final_cols"
   ]
  },
  {
   "cell_type": "code",
   "execution_count": 38,
   "id": "db71176b",
   "metadata": {},
   "outputs": [
    {
     "data": {
      "text/html": [
       "<div>\n",
       "<style scoped>\n",
       "    .dataframe tbody tr th:only-of-type {\n",
       "        vertical-align: middle;\n",
       "    }\n",
       "\n",
       "    .dataframe tbody tr th {\n",
       "        vertical-align: top;\n",
       "    }\n",
       "\n",
       "    .dataframe thead th {\n",
       "        text-align: right;\n",
       "    }\n",
       "</style>\n",
       "<table border=\"1\" class=\"dataframe\">\n",
       "  <thead>\n",
       "    <tr style=\"text-align: right;\">\n",
       "      <th></th>\n",
       "      <th>num__Price</th>\n",
       "      <th>num__MPG.highway</th>\n",
       "      <th>num__Horsepower</th>\n",
       "      <th>num__RPM</th>\n",
       "      <th>num__Fuel.tank.capacity</th>\n",
       "      <th>num__Passengers</th>\n",
       "      <th>num__Length</th>\n",
       "      <th>num__Wheelbase</th>\n",
       "      <th>num__Luggage.room</th>\n",
       "      <th>cat__Manufacturer_Acura</th>\n",
       "      <th>...</th>\n",
       "      <th>cat__Type_Sporty</th>\n",
       "      <th>cat__Type_Van</th>\n",
       "      <th>cat__Cylinders_3</th>\n",
       "      <th>cat__Cylinders_4</th>\n",
       "      <th>cat__Cylinders_5</th>\n",
       "      <th>cat__Cylinders_6</th>\n",
       "      <th>cat__Cylinders_8</th>\n",
       "      <th>cat__Cylinders_rotary</th>\n",
       "      <th>cat__Origin_USA</th>\n",
       "      <th>cat__Origin_non-USA</th>\n",
       "    </tr>\n",
       "  </thead>\n",
       "  <tbody>\n",
       "    <tr>\n",
       "      <th>0</th>\n",
       "      <td>-0.375720</td>\n",
       "      <td>0.360925</td>\n",
       "      <td>-0.073484</td>\n",
       "      <td>1.717489</td>\n",
       "      <td>-1.062184</td>\n",
       "      <td>-0.083243</td>\n",
       "      <td>-0.427186</td>\n",
       "      <td>-0.286932</td>\n",
       "      <td>-1.033015</td>\n",
       "      <td>1.0</td>\n",
       "      <td>...</td>\n",
       "      <td>0.0</td>\n",
       "      <td>0.0</td>\n",
       "      <td>0.0</td>\n",
       "      <td>1.0</td>\n",
       "      <td>0.0</td>\n",
       "      <td>0.0</td>\n",
       "      <td>0.0</td>\n",
       "      <td>0.0</td>\n",
       "      <td>0.0</td>\n",
       "      <td>1.0</td>\n",
       "    </tr>\n",
       "    <tr>\n",
       "      <th>1</th>\n",
       "      <td>1.497844</td>\n",
       "      <td>-0.770514</td>\n",
       "      <td>1.078322</td>\n",
       "      <td>0.369586</td>\n",
       "      <td>0.409445</td>\n",
       "      <td>-0.083243</td>\n",
       "      <td>0.812171</td>\n",
       "      <td>1.629649</td>\n",
       "      <td>0.396643</td>\n",
       "      <td>1.0</td>\n",
       "      <td>...</td>\n",
       "      <td>0.0</td>\n",
       "      <td>0.0</td>\n",
       "      <td>0.0</td>\n",
       "      <td>0.0</td>\n",
       "      <td>0.0</td>\n",
       "      <td>1.0</td>\n",
       "      <td>0.0</td>\n",
       "      <td>0.0</td>\n",
       "      <td>0.0</td>\n",
       "      <td>1.0</td>\n",
       "    </tr>\n",
       "    <tr>\n",
       "      <th>2</th>\n",
       "      <td>0.998227</td>\n",
       "      <td>-0.581941</td>\n",
       "      <td>0.540813</td>\n",
       "      <td>0.369586</td>\n",
       "      <td>0.072197</td>\n",
       "      <td>-0.083243</td>\n",
       "      <td>-0.220626</td>\n",
       "      <td>-0.286932</td>\n",
       "      <td>0.039228</td>\n",
       "      <td>0.0</td>\n",
       "      <td>...</td>\n",
       "      <td>0.0</td>\n",
       "      <td>0.0</td>\n",
       "      <td>0.0</td>\n",
       "      <td>0.0</td>\n",
       "      <td>0.0</td>\n",
       "      <td>1.0</td>\n",
       "      <td>0.0</td>\n",
       "      <td>0.0</td>\n",
       "      <td>0.0</td>\n",
       "      <td>1.0</td>\n",
       "    </tr>\n",
       "    <tr>\n",
       "      <th>3</th>\n",
       "      <td>1.893374</td>\n",
       "      <td>-0.581941</td>\n",
       "      <td>0.540813</td>\n",
       "      <td>0.369586</td>\n",
       "      <td>1.359872</td>\n",
       "      <td>0.884457</td>\n",
       "      <td>0.674465</td>\n",
       "      <td>0.302785</td>\n",
       "      <td>1.111472</td>\n",
       "      <td>0.0</td>\n",
       "      <td>...</td>\n",
       "      <td>0.0</td>\n",
       "      <td>0.0</td>\n",
       "      <td>0.0</td>\n",
       "      <td>0.0</td>\n",
       "      <td>0.0</td>\n",
       "      <td>1.0</td>\n",
       "      <td>0.0</td>\n",
       "      <td>0.0</td>\n",
       "      <td>0.0</td>\n",
       "      <td>1.0</td>\n",
       "    </tr>\n",
       "    <tr>\n",
       "      <th>4</th>\n",
       "      <td>1.091905</td>\n",
       "      <td>0.172352</td>\n",
       "      <td>1.231897</td>\n",
       "      <td>0.706562</td>\n",
       "      <td>1.359872</td>\n",
       "      <td>-1.050944</td>\n",
       "      <td>0.192493</td>\n",
       "      <td>0.745073</td>\n",
       "      <td>-0.318186</td>\n",
       "      <td>0.0</td>\n",
       "      <td>...</td>\n",
       "      <td>0.0</td>\n",
       "      <td>0.0</td>\n",
       "      <td>0.0</td>\n",
       "      <td>1.0</td>\n",
       "      <td>0.0</td>\n",
       "      <td>0.0</td>\n",
       "      <td>0.0</td>\n",
       "      <td>0.0</td>\n",
       "      <td>0.0</td>\n",
       "      <td>1.0</td>\n",
       "    </tr>\n",
       "  </tbody>\n",
       "</table>\n",
       "<p>5 rows × 55 columns</p>\n",
       "</div>"
      ],
      "text/plain": [
       "   num__Price  num__MPG.highway  num__Horsepower  num__RPM  \\\n",
       "0   -0.375720          0.360925        -0.073484  1.717489   \n",
       "1    1.497844         -0.770514         1.078322  0.369586   \n",
       "2    0.998227         -0.581941         0.540813  0.369586   \n",
       "3    1.893374         -0.581941         0.540813  0.369586   \n",
       "4    1.091905          0.172352         1.231897  0.706562   \n",
       "\n",
       "   num__Fuel.tank.capacity  num__Passengers  num__Length  num__Wheelbase  \\\n",
       "0                -1.062184        -0.083243    -0.427186       -0.286932   \n",
       "1                 0.409445        -0.083243     0.812171        1.629649   \n",
       "2                 0.072197        -0.083243    -0.220626       -0.286932   \n",
       "3                 1.359872         0.884457     0.674465        0.302785   \n",
       "4                 1.359872        -1.050944     0.192493        0.745073   \n",
       "\n",
       "   num__Luggage.room  cat__Manufacturer_Acura  ...  cat__Type_Sporty  \\\n",
       "0          -1.033015                      1.0  ...               0.0   \n",
       "1           0.396643                      1.0  ...               0.0   \n",
       "2           0.039228                      0.0  ...               0.0   \n",
       "3           1.111472                      0.0  ...               0.0   \n",
       "4          -0.318186                      0.0  ...               0.0   \n",
       "\n",
       "   cat__Type_Van  cat__Cylinders_3  cat__Cylinders_4  cat__Cylinders_5  \\\n",
       "0            0.0               0.0               1.0               0.0   \n",
       "1            0.0               0.0               0.0               0.0   \n",
       "2            0.0               0.0               0.0               0.0   \n",
       "3            0.0               0.0               0.0               0.0   \n",
       "4            0.0               0.0               1.0               0.0   \n",
       "\n",
       "   cat__Cylinders_6  cat__Cylinders_8  cat__Cylinders_rotary  cat__Origin_USA  \\\n",
       "0               0.0               0.0                    0.0              0.0   \n",
       "1               1.0               0.0                    0.0              0.0   \n",
       "2               1.0               0.0                    0.0              0.0   \n",
       "3               1.0               0.0                    0.0              0.0   \n",
       "4               0.0               0.0                    0.0              0.0   \n",
       "\n",
       "   cat__Origin_non-USA  \n",
       "0                  1.0  \n",
       "1                  1.0  \n",
       "2                  1.0  \n",
       "3                  1.0  \n",
       "4                  1.0  \n",
       "\n",
       "[5 rows x 55 columns]"
      ]
     },
     "execution_count": 38,
     "metadata": {},
     "output_type": "execute_result"
    }
   ],
   "source": [
    "x_sel_pre = pd.DataFrame(x_sel_pre, columns= final_cols)\n",
    "x_sel_pre.head()"
   ]
  },
  {
   "cell_type": "markdown",
   "id": "c1fd6dd6",
   "metadata": {},
   "source": [
    "### Perform train test split"
   ]
  },
  {
   "cell_type": "code",
   "execution_count": 39,
   "id": "258a1055",
   "metadata": {},
   "outputs": [],
   "source": [
    "from sklearn.model_selection import train_test_split\n",
    "xtrain, xtest, ytrain, ytest = train_test_split(x_sel_pre, y ,test_size=0.2, random_state=21) "
   ]
  },
  {
   "cell_type": "code",
   "execution_count": 40,
   "id": "8b41d27b",
   "metadata": {},
   "outputs": [
    {
     "data": {
      "text/html": [
       "<div>\n",
       "<style scoped>\n",
       "    .dataframe tbody tr th:only-of-type {\n",
       "        vertical-align: middle;\n",
       "    }\n",
       "\n",
       "    .dataframe tbody tr th {\n",
       "        vertical-align: top;\n",
       "    }\n",
       "\n",
       "    .dataframe thead th {\n",
       "        text-align: right;\n",
       "    }\n",
       "</style>\n",
       "<table border=\"1\" class=\"dataframe\">\n",
       "  <thead>\n",
       "    <tr style=\"text-align: right;\">\n",
       "      <th></th>\n",
       "      <th>num__Price</th>\n",
       "      <th>num__MPG.highway</th>\n",
       "      <th>num__Horsepower</th>\n",
       "      <th>num__RPM</th>\n",
       "      <th>num__Fuel.tank.capacity</th>\n",
       "      <th>num__Passengers</th>\n",
       "      <th>num__Length</th>\n",
       "      <th>num__Wheelbase</th>\n",
       "      <th>num__Luggage.room</th>\n",
       "      <th>cat__Manufacturer_Acura</th>\n",
       "      <th>...</th>\n",
       "      <th>cat__Type_Sporty</th>\n",
       "      <th>cat__Type_Van</th>\n",
       "      <th>cat__Cylinders_3</th>\n",
       "      <th>cat__Cylinders_4</th>\n",
       "      <th>cat__Cylinders_5</th>\n",
       "      <th>cat__Cylinders_6</th>\n",
       "      <th>cat__Cylinders_8</th>\n",
       "      <th>cat__Cylinders_rotary</th>\n",
       "      <th>cat__Origin_USA</th>\n",
       "      <th>cat__Origin_non-USA</th>\n",
       "    </tr>\n",
       "  </thead>\n",
       "  <tbody>\n",
       "    <tr>\n",
       "      <th>57</th>\n",
       "      <td>1.289670</td>\n",
       "      <td>-0.016221</td>\n",
       "      <td>-0.265452</td>\n",
       "      <td>-0.304365</td>\n",
       "      <td>-0.663618</td>\n",
       "      <td>-0.083243</td>\n",
       "      <td>-0.564892</td>\n",
       "      <td>0.155356</td>\n",
       "      <td>-0.675601</td>\n",
       "      <td>0.0</td>\n",
       "      <td>...</td>\n",
       "      <td>0.0</td>\n",
       "      <td>0.0</td>\n",
       "      <td>0.0</td>\n",
       "      <td>1.0</td>\n",
       "      <td>0.0</td>\n",
       "      <td>0.0</td>\n",
       "      <td>0.0</td>\n",
       "      <td>0.0</td>\n",
       "      <td>0.0</td>\n",
       "      <td>1.0</td>\n",
       "    </tr>\n",
       "    <tr>\n",
       "      <th>31</th>\n",
       "      <td>-0.979424</td>\n",
       "      <td>0.172352</td>\n",
       "      <td>-0.323043</td>\n",
       "      <td>2.054464</td>\n",
       "      <td>-1.062184</td>\n",
       "      <td>-0.083243</td>\n",
       "      <td>-0.840305</td>\n",
       "      <td>-0.876650</td>\n",
       "      <td>-0.675601</td>\n",
       "      <td>0.0</td>\n",
       "      <td>...</td>\n",
       "      <td>0.0</td>\n",
       "      <td>0.0</td>\n",
       "      <td>0.0</td>\n",
       "      <td>1.0</td>\n",
       "      <td>0.0</td>\n",
       "      <td>0.0</td>\n",
       "      <td>0.0</td>\n",
       "      <td>0.0</td>\n",
       "      <td>1.0</td>\n",
       "      <td>0.0</td>\n",
       "    </tr>\n",
       "    <tr>\n",
       "      <th>62</th>\n",
       "      <td>0.685966</td>\n",
       "      <td>-0.959087</td>\n",
       "      <td>1.116716</td>\n",
       "      <td>1.212025</td>\n",
       "      <td>0.716035</td>\n",
       "      <td>-0.083243</td>\n",
       "      <td>0.467905</td>\n",
       "      <td>0.450214</td>\n",
       "      <td>0.039228</td>\n",
       "      <td>0.0</td>\n",
       "      <td>...</td>\n",
       "      <td>0.0</td>\n",
       "      <td>0.0</td>\n",
       "      <td>0.0</td>\n",
       "      <td>0.0</td>\n",
       "      <td>0.0</td>\n",
       "      <td>1.0</td>\n",
       "      <td>0.0</td>\n",
       "      <td>0.0</td>\n",
       "      <td>0.0</td>\n",
       "      <td>1.0</td>\n",
       "    </tr>\n",
       "    <tr>\n",
       "      <th>29</th>\n",
       "      <td>-0.021825</td>\n",
       "      <td>-0.204794</td>\n",
       "      <td>1.347077</td>\n",
       "      <td>0.875050</td>\n",
       "      <td>0.409445</td>\n",
       "      <td>0.884457</td>\n",
       "      <td>1.294143</td>\n",
       "      <td>1.334791</td>\n",
       "      <td>0.396643</td>\n",
       "      <td>0.0</td>\n",
       "      <td>...</td>\n",
       "      <td>0.0</td>\n",
       "      <td>0.0</td>\n",
       "      <td>0.0</td>\n",
       "      <td>0.0</td>\n",
       "      <td>0.0</td>\n",
       "      <td>1.0</td>\n",
       "      <td>0.0</td>\n",
       "      <td>0.0</td>\n",
       "      <td>1.0</td>\n",
       "      <td>0.0</td>\n",
       "    </tr>\n",
       "    <tr>\n",
       "      <th>51</th>\n",
       "      <td>1.726835</td>\n",
       "      <td>-0.581941</td>\n",
       "      <td>1.270290</td>\n",
       "      <td>-1.146804</td>\n",
       "      <td>1.022624</td>\n",
       "      <td>0.884457</td>\n",
       "      <td>2.464647</td>\n",
       "      <td>1.924508</td>\n",
       "      <td>2.898544</td>\n",
       "      <td>0.0</td>\n",
       "      <td>...</td>\n",
       "      <td>0.0</td>\n",
       "      <td>0.0</td>\n",
       "      <td>0.0</td>\n",
       "      <td>0.0</td>\n",
       "      <td>0.0</td>\n",
       "      <td>0.0</td>\n",
       "      <td>1.0</td>\n",
       "      <td>0.0</td>\n",
       "      <td>1.0</td>\n",
       "      <td>0.0</td>\n",
       "    </tr>\n",
       "  </tbody>\n",
       "</table>\n",
       "<p>5 rows × 55 columns</p>\n",
       "</div>"
      ],
      "text/plain": [
       "    num__Price  num__MPG.highway  num__Horsepower  num__RPM  \\\n",
       "57    1.289670         -0.016221        -0.265452 -0.304365   \n",
       "31   -0.979424          0.172352        -0.323043  2.054464   \n",
       "62    0.685966         -0.959087         1.116716  1.212025   \n",
       "29   -0.021825         -0.204794         1.347077  0.875050   \n",
       "51    1.726835         -0.581941         1.270290 -1.146804   \n",
       "\n",
       "    num__Fuel.tank.capacity  num__Passengers  num__Length  num__Wheelbase  \\\n",
       "57                -0.663618        -0.083243    -0.564892        0.155356   \n",
       "31                -1.062184        -0.083243    -0.840305       -0.876650   \n",
       "62                 0.716035        -0.083243     0.467905        0.450214   \n",
       "29                 0.409445         0.884457     1.294143        1.334791   \n",
       "51                 1.022624         0.884457     2.464647        1.924508   \n",
       "\n",
       "    num__Luggage.room  cat__Manufacturer_Acura  ...  cat__Type_Sporty  \\\n",
       "57          -0.675601                      0.0  ...               0.0   \n",
       "31          -0.675601                      0.0  ...               0.0   \n",
       "62           0.039228                      0.0  ...               0.0   \n",
       "29           0.396643                      0.0  ...               0.0   \n",
       "51           2.898544                      0.0  ...               0.0   \n",
       "\n",
       "    cat__Type_Van  cat__Cylinders_3  cat__Cylinders_4  cat__Cylinders_5  \\\n",
       "57            0.0               0.0               1.0               0.0   \n",
       "31            0.0               0.0               1.0               0.0   \n",
       "62            0.0               0.0               0.0               0.0   \n",
       "29            0.0               0.0               0.0               0.0   \n",
       "51            0.0               0.0               0.0               0.0   \n",
       "\n",
       "    cat__Cylinders_6  cat__Cylinders_8  cat__Cylinders_rotary  \\\n",
       "57               0.0               0.0                    0.0   \n",
       "31               0.0               0.0                    0.0   \n",
       "62               1.0               0.0                    0.0   \n",
       "29               1.0               0.0                    0.0   \n",
       "51               0.0               1.0                    0.0   \n",
       "\n",
       "    cat__Origin_USA  cat__Origin_non-USA  \n",
       "57              0.0                  1.0  \n",
       "31              1.0                  0.0  \n",
       "62              0.0                  1.0  \n",
       "29              1.0                  0.0  \n",
       "51              1.0                  0.0  \n",
       "\n",
       "[5 rows x 55 columns]"
      ]
     },
     "execution_count": 40,
     "metadata": {},
     "output_type": "execute_result"
    }
   ],
   "source": [
    "xtrain.head()"
   ]
  },
  {
   "cell_type": "code",
   "execution_count": 41,
   "id": "6ebfd1ac",
   "metadata": {},
   "outputs": [
    {
     "data": {
      "text/html": [
       "<div>\n",
       "<style scoped>\n",
       "    .dataframe tbody tr th:only-of-type {\n",
       "        vertical-align: middle;\n",
       "    }\n",
       "\n",
       "    .dataframe tbody tr th {\n",
       "        vertical-align: top;\n",
       "    }\n",
       "\n",
       "    .dataframe thead th {\n",
       "        text-align: right;\n",
       "    }\n",
       "</style>\n",
       "<table border=\"1\" class=\"dataframe\">\n",
       "  <thead>\n",
       "    <tr style=\"text-align: right;\">\n",
       "      <th></th>\n",
       "      <th>Weight</th>\n",
       "    </tr>\n",
       "  </thead>\n",
       "  <tbody>\n",
       "    <tr>\n",
       "      <th>57</th>\n",
       "      <td>2920</td>\n",
       "    </tr>\n",
       "    <tr>\n",
       "      <th>31</th>\n",
       "      <td>2530</td>\n",
       "    </tr>\n",
       "    <tr>\n",
       "      <th>62</th>\n",
       "      <td>3730</td>\n",
       "    </tr>\n",
       "    <tr>\n",
       "      <th>29</th>\n",
       "      <td>3490</td>\n",
       "    </tr>\n",
       "    <tr>\n",
       "      <th>51</th>\n",
       "      <td>4055</td>\n",
       "    </tr>\n",
       "  </tbody>\n",
       "</table>\n",
       "</div>"
      ],
      "text/plain": [
       "    Weight\n",
       "57    2920\n",
       "31    2530\n",
       "62    3730\n",
       "29    3490\n",
       "51    4055"
      ]
     },
     "execution_count": 41,
     "metadata": {},
     "output_type": "execute_result"
    }
   ],
   "source": [
    "ytrain.head()"
   ]
  },
  {
   "cell_type": "code",
   "execution_count": 42,
   "id": "71bb3b3d",
   "metadata": {},
   "outputs": [
    {
     "data": {
      "text/html": [
       "<div>\n",
       "<style scoped>\n",
       "    .dataframe tbody tr th:only-of-type {\n",
       "        vertical-align: middle;\n",
       "    }\n",
       "\n",
       "    .dataframe tbody tr th {\n",
       "        vertical-align: top;\n",
       "    }\n",
       "\n",
       "    .dataframe thead th {\n",
       "        text-align: right;\n",
       "    }\n",
       "</style>\n",
       "<table border=\"1\" class=\"dataframe\">\n",
       "  <thead>\n",
       "    <tr style=\"text-align: right;\">\n",
       "      <th></th>\n",
       "      <th>num__Price</th>\n",
       "      <th>num__MPG.highway</th>\n",
       "      <th>num__Horsepower</th>\n",
       "      <th>num__RPM</th>\n",
       "      <th>num__Fuel.tank.capacity</th>\n",
       "      <th>num__Passengers</th>\n",
       "      <th>num__Length</th>\n",
       "      <th>num__Wheelbase</th>\n",
       "      <th>num__Luggage.room</th>\n",
       "      <th>cat__Manufacturer_Acura</th>\n",
       "      <th>...</th>\n",
       "      <th>cat__Type_Sporty</th>\n",
       "      <th>cat__Type_Van</th>\n",
       "      <th>cat__Cylinders_3</th>\n",
       "      <th>cat__Cylinders_4</th>\n",
       "      <th>cat__Cylinders_5</th>\n",
       "      <th>cat__Cylinders_6</th>\n",
       "      <th>cat__Cylinders_8</th>\n",
       "      <th>cat__Cylinders_rotary</th>\n",
       "      <th>cat__Origin_USA</th>\n",
       "      <th>cat__Origin_non-USA</th>\n",
       "    </tr>\n",
       "  </thead>\n",
       "  <tbody>\n",
       "    <tr>\n",
       "      <th>23</th>\n",
       "      <td>-0.854520</td>\n",
       "      <td>-0.016221</td>\n",
       "      <td>-0.975733</td>\n",
       "      <td>-0.809828</td>\n",
       "      <td>-0.816912</td>\n",
       "      <td>-0.083243</td>\n",
       "      <td>-0.771452</td>\n",
       "      <td>-1.024079</td>\n",
       "      <td>-0.318186</td>\n",
       "      <td>0.0</td>\n",
       "      <td>...</td>\n",
       "      <td>0.0</td>\n",
       "      <td>0.0</td>\n",
       "      <td>0.0</td>\n",
       "      <td>1.0</td>\n",
       "      <td>0.0</td>\n",
       "      <td>0.0</td>\n",
       "      <td>0.0</td>\n",
       "      <td>0.0</td>\n",
       "      <td>1.0</td>\n",
       "      <td>0.0</td>\n",
       "    </tr>\n",
       "    <tr>\n",
       "      <th>86</th>\n",
       "      <td>0.332071</td>\n",
       "      <td>-1.336233</td>\n",
       "      <td>-0.111878</td>\n",
       "      <td>-0.472853</td>\n",
       "      <td>0.961306</td>\n",
       "      <td>1.852158</td>\n",
       "      <td>0.261346</td>\n",
       "      <td>1.334791</td>\n",
       "      <td>0.000000</td>\n",
       "      <td>0.0</td>\n",
       "      <td>...</td>\n",
       "      <td>0.0</td>\n",
       "      <td>1.0</td>\n",
       "      <td>0.0</td>\n",
       "      <td>1.0</td>\n",
       "      <td>0.0</td>\n",
       "      <td>0.0</td>\n",
       "      <td>0.0</td>\n",
       "      <td>0.0</td>\n",
       "      <td>0.0</td>\n",
       "      <td>1.0</td>\n",
       "    </tr>\n",
       "    <tr>\n",
       "      <th>91</th>\n",
       "      <td>0.332071</td>\n",
       "      <td>-0.204794</td>\n",
       "      <td>-0.572601</td>\n",
       "      <td>0.201098</td>\n",
       "      <td>-0.265051</td>\n",
       "      <td>-0.083243</td>\n",
       "      <td>0.467905</td>\n",
       "      <td>0.007926</td>\n",
       "      <td>0.039228</td>\n",
       "      <td>0.0</td>\n",
       "      <td>...</td>\n",
       "      <td>0.0</td>\n",
       "      <td>0.0</td>\n",
       "      <td>0.0</td>\n",
       "      <td>1.0</td>\n",
       "      <td>0.0</td>\n",
       "      <td>0.0</td>\n",
       "      <td>0.0</td>\n",
       "      <td>0.0</td>\n",
       "      <td>0.0</td>\n",
       "      <td>1.0</td>\n",
       "    </tr>\n",
       "    <tr>\n",
       "      <th>21</th>\n",
       "      <td>1.039862</td>\n",
       "      <td>-0.581941</td>\n",
       "      <td>0.060893</td>\n",
       "      <td>-0.809828</td>\n",
       "      <td>-0.203734</td>\n",
       "      <td>0.884457</td>\n",
       "      <td>1.362996</td>\n",
       "      <td>0.892502</td>\n",
       "      <td>1.111472</td>\n",
       "      <td>0.0</td>\n",
       "      <td>...</td>\n",
       "      <td>0.0</td>\n",
       "      <td>0.0</td>\n",
       "      <td>0.0</td>\n",
       "      <td>0.0</td>\n",
       "      <td>0.0</td>\n",
       "      <td>1.0</td>\n",
       "      <td>0.0</td>\n",
       "      <td>0.0</td>\n",
       "      <td>1.0</td>\n",
       "      <td>0.0</td>\n",
       "    </tr>\n",
       "    <tr>\n",
       "      <th>17</th>\n",
       "      <td>-0.073868</td>\n",
       "      <td>-0.581941</td>\n",
       "      <td>0.502419</td>\n",
       "      <td>-1.820755</td>\n",
       "      <td>1.942392</td>\n",
       "      <td>0.884457</td>\n",
       "      <td>2.120381</td>\n",
       "      <td>1.777079</td>\n",
       "      <td>2.183715</td>\n",
       "      <td>0.0</td>\n",
       "      <td>...</td>\n",
       "      <td>0.0</td>\n",
       "      <td>0.0</td>\n",
       "      <td>0.0</td>\n",
       "      <td>0.0</td>\n",
       "      <td>0.0</td>\n",
       "      <td>0.0</td>\n",
       "      <td>1.0</td>\n",
       "      <td>0.0</td>\n",
       "      <td>1.0</td>\n",
       "      <td>0.0</td>\n",
       "    </tr>\n",
       "  </tbody>\n",
       "</table>\n",
       "<p>5 rows × 55 columns</p>\n",
       "</div>"
      ],
      "text/plain": [
       "    num__Price  num__MPG.highway  num__Horsepower  num__RPM  \\\n",
       "23   -0.854520         -0.016221        -0.975733 -0.809828   \n",
       "86    0.332071         -1.336233        -0.111878 -0.472853   \n",
       "91    0.332071         -0.204794        -0.572601  0.201098   \n",
       "21    1.039862         -0.581941         0.060893 -0.809828   \n",
       "17   -0.073868         -0.581941         0.502419 -1.820755   \n",
       "\n",
       "    num__Fuel.tank.capacity  num__Passengers  num__Length  num__Wheelbase  \\\n",
       "23                -0.816912        -0.083243    -0.771452       -1.024079   \n",
       "86                 0.961306         1.852158     0.261346        1.334791   \n",
       "91                -0.265051        -0.083243     0.467905        0.007926   \n",
       "21                -0.203734         0.884457     1.362996        0.892502   \n",
       "17                 1.942392         0.884457     2.120381        1.777079   \n",
       "\n",
       "    num__Luggage.room  cat__Manufacturer_Acura  ...  cat__Type_Sporty  \\\n",
       "23          -0.318186                      0.0  ...               0.0   \n",
       "86           0.000000                      0.0  ...               0.0   \n",
       "91           0.039228                      0.0  ...               0.0   \n",
       "21           1.111472                      0.0  ...               0.0   \n",
       "17           2.183715                      0.0  ...               0.0   \n",
       "\n",
       "    cat__Type_Van  cat__Cylinders_3  cat__Cylinders_4  cat__Cylinders_5  \\\n",
       "23            0.0               0.0               1.0               0.0   \n",
       "86            1.0               0.0               1.0               0.0   \n",
       "91            0.0               0.0               1.0               0.0   \n",
       "21            0.0               0.0               0.0               0.0   \n",
       "17            0.0               0.0               0.0               0.0   \n",
       "\n",
       "    cat__Cylinders_6  cat__Cylinders_8  cat__Cylinders_rotary  \\\n",
       "23               0.0               0.0                    0.0   \n",
       "86               0.0               0.0                    0.0   \n",
       "91               0.0               0.0                    0.0   \n",
       "21               1.0               0.0                    0.0   \n",
       "17               0.0               1.0                    0.0   \n",
       "\n",
       "    cat__Origin_USA  cat__Origin_non-USA  \n",
       "23              1.0                  0.0  \n",
       "86              0.0                  1.0  \n",
       "91              0.0                  1.0  \n",
       "21              1.0                  0.0  \n",
       "17              1.0                  0.0  \n",
       "\n",
       "[5 rows x 55 columns]"
      ]
     },
     "execution_count": 42,
     "metadata": {},
     "output_type": "execute_result"
    }
   ],
   "source": [
    "xtest.head()"
   ]
  },
  {
   "cell_type": "code",
   "execution_count": 43,
   "id": "7458dfc3",
   "metadata": {},
   "outputs": [
    {
     "data": {
      "text/html": [
       "<div>\n",
       "<style scoped>\n",
       "    .dataframe tbody tr th:only-of-type {\n",
       "        vertical-align: middle;\n",
       "    }\n",
       "\n",
       "    .dataframe tbody tr th {\n",
       "        vertical-align: top;\n",
       "    }\n",
       "\n",
       "    .dataframe thead th {\n",
       "        text-align: right;\n",
       "    }\n",
       "</style>\n",
       "<table border=\"1\" class=\"dataframe\">\n",
       "  <thead>\n",
       "    <tr style=\"text-align: right;\">\n",
       "      <th></th>\n",
       "      <th>Weight</th>\n",
       "    </tr>\n",
       "  </thead>\n",
       "  <tbody>\n",
       "    <tr>\n",
       "      <th>23</th>\n",
       "      <td>2670</td>\n",
       "    </tr>\n",
       "    <tr>\n",
       "      <th>86</th>\n",
       "      <td>3785</td>\n",
       "    </tr>\n",
       "    <tr>\n",
       "      <th>91</th>\n",
       "      <td>2985</td>\n",
       "    </tr>\n",
       "    <tr>\n",
       "      <th>21</th>\n",
       "      <td>3570</td>\n",
       "    </tr>\n",
       "    <tr>\n",
       "      <th>17</th>\n",
       "      <td>3910</td>\n",
       "    </tr>\n",
       "  </tbody>\n",
       "</table>\n",
       "</div>"
      ],
      "text/plain": [
       "    Weight\n",
       "23    2670\n",
       "86    3785\n",
       "91    2985\n",
       "21    3570\n",
       "17    3910"
      ]
     },
     "execution_count": 43,
     "metadata": {},
     "output_type": "execute_result"
    }
   ],
   "source": [
    "ytest.head()"
   ]
  },
  {
   "cell_type": "code",
   "execution_count": 44,
   "id": "15437544",
   "metadata": {},
   "outputs": [
    {
     "data": {
      "text/plain": [
       "(74, 55)"
      ]
     },
     "execution_count": 44,
     "metadata": {},
     "output_type": "execute_result"
    }
   ],
   "source": [
    "xtrain.shape"
   ]
  },
  {
   "cell_type": "code",
   "execution_count": 45,
   "id": "a4ecc63b",
   "metadata": {},
   "outputs": [
    {
     "data": {
      "text/plain": [
       "(19, 55)"
      ]
     },
     "execution_count": 45,
     "metadata": {},
     "output_type": "execute_result"
    }
   ],
   "source": [
    "xtest.shape"
   ]
  },
  {
   "cell_type": "markdown",
   "id": "ce7710de",
   "metadata": {},
   "source": [
    "### Createing a model"
   ]
  },
  {
   "cell_type": "code",
   "execution_count": 46,
   "id": "a8496616",
   "metadata": {},
   "outputs": [
    {
     "data": {
      "text/html": [
       "<style>#sk-container-id-1 {color: black;}#sk-container-id-1 pre{padding: 0;}#sk-container-id-1 div.sk-toggleable {background-color: white;}#sk-container-id-1 label.sk-toggleable__label {cursor: pointer;display: block;width: 100%;margin-bottom: 0;padding: 0.3em;box-sizing: border-box;text-align: center;}#sk-container-id-1 label.sk-toggleable__label-arrow:before {content: \"▸\";float: left;margin-right: 0.25em;color: #696969;}#sk-container-id-1 label.sk-toggleable__label-arrow:hover:before {color: black;}#sk-container-id-1 div.sk-estimator:hover label.sk-toggleable__label-arrow:before {color: black;}#sk-container-id-1 div.sk-toggleable__content {max-height: 0;max-width: 0;overflow: hidden;text-align: left;background-color: #f0f8ff;}#sk-container-id-1 div.sk-toggleable__content pre {margin: 0.2em;color: black;border-radius: 0.25em;background-color: #f0f8ff;}#sk-container-id-1 input.sk-toggleable__control:checked~div.sk-toggleable__content {max-height: 200px;max-width: 100%;overflow: auto;}#sk-container-id-1 input.sk-toggleable__control:checked~label.sk-toggleable__label-arrow:before {content: \"▾\";}#sk-container-id-1 div.sk-estimator input.sk-toggleable__control:checked~label.sk-toggleable__label {background-color: #d4ebff;}#sk-container-id-1 div.sk-label input.sk-toggleable__control:checked~label.sk-toggleable__label {background-color: #d4ebff;}#sk-container-id-1 input.sk-hidden--visually {border: 0;clip: rect(1px 1px 1px 1px);clip: rect(1px, 1px, 1px, 1px);height: 1px;margin: -1px;overflow: hidden;padding: 0;position: absolute;width: 1px;}#sk-container-id-1 div.sk-estimator {font-family: monospace;background-color: #f0f8ff;border: 1px dotted black;border-radius: 0.25em;box-sizing: border-box;margin-bottom: 0.5em;}#sk-container-id-1 div.sk-estimator:hover {background-color: #d4ebff;}#sk-container-id-1 div.sk-parallel-item::after {content: \"\";width: 100%;border-bottom: 1px solid gray;flex-grow: 1;}#sk-container-id-1 div.sk-label:hover label.sk-toggleable__label {background-color: #d4ebff;}#sk-container-id-1 div.sk-serial::before {content: \"\";position: absolute;border-left: 1px solid gray;box-sizing: border-box;top: 0;bottom: 0;left: 50%;z-index: 0;}#sk-container-id-1 div.sk-serial {display: flex;flex-direction: column;align-items: center;background-color: white;padding-right: 0.2em;padding-left: 0.2em;position: relative;}#sk-container-id-1 div.sk-item {position: relative;z-index: 1;}#sk-container-id-1 div.sk-parallel {display: flex;align-items: stretch;justify-content: center;background-color: white;position: relative;}#sk-container-id-1 div.sk-item::before, #sk-container-id-1 div.sk-parallel-item::before {content: \"\";position: absolute;border-left: 1px solid gray;box-sizing: border-box;top: 0;bottom: 0;left: 50%;z-index: -1;}#sk-container-id-1 div.sk-parallel-item {display: flex;flex-direction: column;z-index: 1;position: relative;background-color: white;}#sk-container-id-1 div.sk-parallel-item:first-child::after {align-self: flex-end;width: 50%;}#sk-container-id-1 div.sk-parallel-item:last-child::after {align-self: flex-start;width: 50%;}#sk-container-id-1 div.sk-parallel-item:only-child::after {width: 0;}#sk-container-id-1 div.sk-dashed-wrapped {border: 1px dashed gray;margin: 0 0.4em 0.5em 0.4em;box-sizing: border-box;padding-bottom: 0.4em;background-color: white;}#sk-container-id-1 div.sk-label label {font-family: monospace;font-weight: bold;display: inline-block;line-height: 1.2em;}#sk-container-id-1 div.sk-label-container {text-align: center;}#sk-container-id-1 div.sk-container {/* jupyter's `normalize.less` sets `[hidden] { display: none; }` but bootstrap.min.css set `[hidden] { display: none !important; }` so we also need the `!important` here to be able to override the default hidden behavior on the sphinx rendered scikit-learn.org. See: https://github.com/scikit-learn/scikit-learn/issues/21755 */display: inline-block !important;position: relative;}#sk-container-id-1 div.sk-text-repr-fallback {display: none;}</style><div id=\"sk-container-id-1\" class=\"sk-top-container\"><div class=\"sk-text-repr-fallback\"><pre>LinearRegression()</pre><b>In a Jupyter environment, please rerun this cell to show the HTML representation or trust the notebook. <br />On GitHub, the HTML representation is unable to render, please try loading this page with nbviewer.org.</b></div><div class=\"sk-container\" hidden><div class=\"sk-item\"><div class=\"sk-estimator sk-toggleable\"><input class=\"sk-toggleable__control sk-hidden--visually\" id=\"sk-estimator-id-1\" type=\"checkbox\" checked><label for=\"sk-estimator-id-1\" class=\"sk-toggleable__label sk-toggleable__label-arrow\">LinearRegression</label><div class=\"sk-toggleable__content\"><pre>LinearRegression()</pre></div></div></div></div></div>"
      ],
      "text/plain": [
       "LinearRegression()"
      ]
     },
     "execution_count": 46,
     "metadata": {},
     "output_type": "execute_result"
    }
   ],
   "source": [
    "model = LinearRegression()\n",
    "model.fit(xtrain, ytrain)"
   ]
  },
  {
   "cell_type": "markdown",
   "id": "de94e552",
   "metadata": {},
   "source": [
    "### Check r2 score in train and test"
   ]
  },
  {
   "cell_type": "code",
   "execution_count": 47,
   "id": "85595fbd",
   "metadata": {},
   "outputs": [
    {
     "data": {
      "text/plain": [
       "0.9868653746294301"
      ]
     },
     "execution_count": 47,
     "metadata": {},
     "output_type": "execute_result"
    }
   ],
   "source": [
    "model.score(xtrain, ytrain)"
   ]
  },
  {
   "cell_type": "code",
   "execution_count": 48,
   "id": "0c29edfe",
   "metadata": {},
   "outputs": [
    {
     "data": {
      "text/plain": [
       "0.9073744144906257"
      ]
     },
     "execution_count": 48,
     "metadata": {},
     "output_type": "execute_result"
    }
   ],
   "source": [
    "model.score(xtest, ytest)"
   ]
  },
  {
   "cell_type": "markdown",
   "id": "771d4bcc",
   "metadata": {},
   "source": [
    "### Create a function to evaluate model"
   ]
  },
  {
   "cell_type": "code",
   "execution_count": 49,
   "id": "bcfce7c0",
   "metadata": {},
   "outputs": [],
   "source": [
    "def evaluate_model(xtrain, ytrain, xtest, ytest, model):\n",
    "    # Predict train and test results\n",
    "    ypred_tr = model.predict(xtrain)\n",
    "    ypred_ts = model.predict(xtest)\n",
    "    # Get metrices\n",
    "    from sklearn.metrics import mean_squared_error, mean_absolute_error, r2_score\n",
    "    tr_mse = mean_squared_error(ytrain , ypred_tr)\n",
    "    tr_rmse = tr_mse**(1/2)\n",
    "    tr_mae = mean_absolute_error(ytrain, ypred_tr)\n",
    "    tr_r2 = r2_score(ytrain, ypred_tr)\n",
    "    #print all train results\n",
    "    print('Traning Results : ')\n",
    "    print(f'MSE : {tr_mse:.2f}')\n",
    "    print(f'RMSE : {tr_rmse:.2f}')\n",
    "    print(f'MAE : {tr_mae:.2f}')\n",
    "    print(f'R2 : {tr_r2:.4f}')\n",
    "    # tesing result\n",
    "    ts_mse = mean_squared_error(ytest , ypred_ts)\n",
    "    ts_rmse = tr_mse**(1/2)\n",
    "    ts_mae = mean_absolute_error(ytest , ypred_ts)\n",
    "    ts_r2 = r2_score(ytest , ypred_ts)\n",
    "    # Print all tset result\n",
    "    print(\"\\n=====================================\\n\")\n",
    "    print('Traning Results : ')\n",
    "    print(f'MSE : {ts_mse:.2f}')\n",
    "    print(f'RMSE : {ts_rmse:.2f}')\n",
    "    print(f'MAE : {ts_mae:.2f}')\n",
    "    print(f'R2 : {ts_r2:.4f}')"
   ]
  },
  {
   "cell_type": "code",
   "execution_count": null,
   "id": "f7728139",
   "metadata": {},
   "outputs": [],
   "source": []
  },
  {
   "cell_type": "code",
   "execution_count": 50,
   "id": "5cf28301",
   "metadata": {},
   "outputs": [],
   "source": [
    "from Function import evaluate_model"
   ]
  },
  {
   "cell_type": "code",
   "execution_count": 51,
   "id": "d94fa41d",
   "metadata": {},
   "outputs": [
    {
     "name": "stdout",
     "output_type": "stream",
     "text": [
      "Training Results : \n",
      "MSE : 4418.11\n",
      "RMSE: 66.47\n",
      "MAE : 47.72\n",
      "R2  : 0.9869\n",
      "\n",
      "====================================\n",
      "\n",
      "Testing Results : \n",
      "MSE : 33595.02\n",
      "RMSE: 183.29\n",
      "MAE : 150.11\n",
      "R2  : 0.9074\n"
     ]
    }
   ],
   "source": [
    "evaluate_model(xtrain, ytrain, xtest, ytest, model)"
   ]
  },
  {
   "cell_type": "code",
   "execution_count": 52,
   "id": "42efe856",
   "metadata": {},
   "outputs": [
    {
     "data": {
      "text/plain": [
       "(74, 55)"
      ]
     },
     "execution_count": 52,
     "metadata": {},
     "output_type": "execute_result"
    }
   ],
   "source": [
    "xtrain.shape"
   ]
  },
  {
   "cell_type": "markdown",
   "id": "c737433d",
   "metadata": {},
   "source": [
    "### Calculating adjusted R2"
   ]
  },
  {
   "cell_type": "code",
   "execution_count": 53,
   "id": "6e2ed71b",
   "metadata": {},
   "outputs": [
    {
     "data": {
      "text/plain": [
       "74"
      ]
     },
     "execution_count": 53,
     "metadata": {},
     "output_type": "execute_result"
    }
   ],
   "source": [
    "xtrain.shape[0]"
   ]
  },
  {
   "cell_type": "code",
   "execution_count": 54,
   "id": "7753ff41",
   "metadata": {},
   "outputs": [
    {
     "data": {
      "text/plain": [
       "55"
      ]
     },
     "execution_count": 54,
     "metadata": {},
     "output_type": "execute_result"
    }
   ],
   "source": [
    "xtrain.shape[1]"
   ]
  },
  {
   "cell_type": "code",
   "execution_count": 55,
   "id": "67c5e29f",
   "metadata": {},
   "outputs": [],
   "source": [
    "def r2_adjusted(xtrain, ytrain, model):\n",
    "    # Getting r2 score\n",
    "    r2 = model.score(xtrain,ytrain)\n",
    "    # getting values of n rows and columns\n",
    "    N = xtrain.shape[0]\n",
    "    P = xtrain.shape[1]\n",
    "    # calculate r2_adjusted\n",
    "    num = (1-r2)*(N-1)\n",
    "    den = N-P-1\n",
    "    res = 1 - num/den\n",
    "    return res"
   ]
  },
  {
   "cell_type": "code",
   "execution_count": 58,
   "id": "99fc5347",
   "metadata": {},
   "outputs": [],
   "source": [
    "from Function import r2_adjusted"
   ]
  },
  {
   "cell_type": "code",
   "execution_count": 59,
   "id": "6419680d",
   "metadata": {},
   "outputs": [
    {
     "data": {
      "text/plain": [
       "0.9467317971082444"
      ]
     },
     "execution_count": 59,
     "metadata": {},
     "output_type": "execute_result"
    }
   ],
   "source": [
    "r2_adjusted(xtrain, ytrain, model)"
   ]
  },
  {
   "cell_type": "markdown",
   "id": "903a8e2d",
   "metadata": {},
   "source": [
    "### Check train and test predictions"
   ]
  },
  {
   "cell_type": "code",
   "execution_count": 60,
   "id": "1e3edd45",
   "metadata": {},
   "outputs": [],
   "source": [
    "ypred_tr = model.predict(xtrain)\n",
    "ypred_ts = model.predict(xtest)"
   ]
  },
  {
   "cell_type": "code",
   "execution_count": 62,
   "id": "2fd94833",
   "metadata": {},
   "outputs": [
    {
     "data": {
      "text/plain": [
       "array([[2828.91998203],\n",
       "       [2456.01987162],\n",
       "       [3536.16408886],\n",
       "       [3547.77402476],\n",
       "       [4096.42568297]])"
      ]
     },
     "execution_count": 62,
     "metadata": {},
     "output_type": "execute_result"
    }
   ],
   "source": [
    "ypred_tr[0:5]"
   ]
  },
  {
   "cell_type": "code",
   "execution_count": 67,
   "id": "c5e01b28",
   "metadata": {},
   "outputs": [
    {
     "data": {
      "text/html": [
       "<div>\n",
       "<style scoped>\n",
       "    .dataframe tbody tr th:only-of-type {\n",
       "        vertical-align: middle;\n",
       "    }\n",
       "\n",
       "    .dataframe tbody tr th {\n",
       "        vertical-align: top;\n",
       "    }\n",
       "\n",
       "    .dataframe thead th {\n",
       "        text-align: right;\n",
       "    }\n",
       "</style>\n",
       "<table border=\"1\" class=\"dataframe\">\n",
       "  <thead>\n",
       "    <tr style=\"text-align: right;\">\n",
       "      <th></th>\n",
       "      <th>Weight</th>\n",
       "    </tr>\n",
       "  </thead>\n",
       "  <tbody>\n",
       "    <tr>\n",
       "      <th>57</th>\n",
       "      <td>2920</td>\n",
       "    </tr>\n",
       "    <tr>\n",
       "      <th>31</th>\n",
       "      <td>2530</td>\n",
       "    </tr>\n",
       "    <tr>\n",
       "      <th>62</th>\n",
       "      <td>3730</td>\n",
       "    </tr>\n",
       "    <tr>\n",
       "      <th>29</th>\n",
       "      <td>3490</td>\n",
       "    </tr>\n",
       "    <tr>\n",
       "      <th>51</th>\n",
       "      <td>4055</td>\n",
       "    </tr>\n",
       "  </tbody>\n",
       "</table>\n",
       "</div>"
      ],
      "text/plain": [
       "    Weight\n",
       "57    2920\n",
       "31    2530\n",
       "62    3730\n",
       "29    3490\n",
       "51    4055"
      ]
     },
     "execution_count": 67,
     "metadata": {},
     "output_type": "execute_result"
    }
   ],
   "source": [
    "ytrain.head()"
   ]
  },
  {
   "cell_type": "code",
   "execution_count": 63,
   "id": "0664d4c0",
   "metadata": {},
   "outputs": [
    {
     "data": {
      "text/plain": [
       "array([[2589.16437467],\n",
       "       [3940.26593648],\n",
       "       [3191.79724563],\n",
       "       [3674.08552187],\n",
       "       [3784.39691077]])"
      ]
     },
     "execution_count": 63,
     "metadata": {},
     "output_type": "execute_result"
    }
   ],
   "source": [
    "ypred_ts[0:5]"
   ]
  },
  {
   "cell_type": "code",
   "execution_count": 66,
   "id": "c0ad126b",
   "metadata": {},
   "outputs": [
    {
     "data": {
      "text/html": [
       "<div>\n",
       "<style scoped>\n",
       "    .dataframe tbody tr th:only-of-type {\n",
       "        vertical-align: middle;\n",
       "    }\n",
       "\n",
       "    .dataframe tbody tr th {\n",
       "        vertical-align: top;\n",
       "    }\n",
       "\n",
       "    .dataframe thead th {\n",
       "        text-align: right;\n",
       "    }\n",
       "</style>\n",
       "<table border=\"1\" class=\"dataframe\">\n",
       "  <thead>\n",
       "    <tr style=\"text-align: right;\">\n",
       "      <th></th>\n",
       "      <th>Weight</th>\n",
       "    </tr>\n",
       "  </thead>\n",
       "  <tbody>\n",
       "    <tr>\n",
       "      <th>23</th>\n",
       "      <td>2670</td>\n",
       "    </tr>\n",
       "    <tr>\n",
       "      <th>86</th>\n",
       "      <td>3785</td>\n",
       "    </tr>\n",
       "    <tr>\n",
       "      <th>91</th>\n",
       "      <td>2985</td>\n",
       "    </tr>\n",
       "    <tr>\n",
       "      <th>21</th>\n",
       "      <td>3570</td>\n",
       "    </tr>\n",
       "    <tr>\n",
       "      <th>17</th>\n",
       "      <td>3910</td>\n",
       "    </tr>\n",
       "  </tbody>\n",
       "</table>\n",
       "</div>"
      ],
      "text/plain": [
       "    Weight\n",
       "23    2670\n",
       "86    3785\n",
       "91    2985\n",
       "21    3570\n",
       "17    3910"
      ]
     },
     "execution_count": 66,
     "metadata": {},
     "output_type": "execute_result"
    }
   ],
   "source": [
    "ytest.head()"
   ]
  },
  {
   "cell_type": "markdown",
   "id": "1ed5a946",
   "metadata": {},
   "source": [
    "### In Backward elimination R2 Score in testing is less (0.9073)\n",
    "\n",
    "### In Forward Selection R2 Score in testing is more (0.95)\n",
    "\n",
    "### Hence not predicting with Backward elimination"
   ]
  },
  {
   "cell_type": "code",
   "execution_count": null,
   "id": "d8e9cf45",
   "metadata": {},
   "outputs": [],
   "source": []
  }
 ],
 "metadata": {
  "kernelspec": {
   "display_name": "Python 3 (ipykernel)",
   "language": "python",
   "name": "python3"
  },
  "language_info": {
   "codemirror_mode": {
    "name": "ipython",
    "version": 3
   },
   "file_extension": ".py",
   "mimetype": "text/x-python",
   "name": "python",
   "nbconvert_exporter": "python",
   "pygments_lexer": "ipython3",
   "version": "3.11.1"
  }
 },
 "nbformat": 4,
 "nbformat_minor": 5
}
